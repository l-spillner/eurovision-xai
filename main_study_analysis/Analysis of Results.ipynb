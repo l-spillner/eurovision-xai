{
 "cells": [
  {
   "cell_type": "markdown",
   "id": "89a9ab98",
   "metadata": {},
   "source": [
    "# Preprocessing"
   ]
  },
  {
   "cell_type": "code",
   "execution_count": 2,
   "id": "1f8f6a2b",
   "metadata": {},
   "outputs": [],
   "source": [
    "import pandas as pd\n",
    "import numpy as np\n",
    "import glob, os\n",
    "import matplotlib.pyplot as plt\n",
    "from scipy import stats\n",
    "from collections import Counter\n",
    "\n",
    "pd.options.mode.chained_assignment = None  # default='warn"
   ]
  },
  {
   "cell_type": "markdown",
   "id": "5f396c3b",
   "metadata": {},
   "source": [
    "### Read data into one big dictionary"
   ]
  },
  {
   "cell_type": "code",
   "execution_count": 3,
   "id": "91b6f661",
   "metadata": {
    "scrolled": true
   },
   "outputs": [],
   "source": [
    "os.chdir(\"./data\")\n",
    "study_data_names = [file for file in glob.glob(\"*.csv\")]\n",
    "os.chdir(\"..\")\n",
    "data = {0:{}, 1:{}}\n",
    "for file in study_data_names:\n",
    "    if(file.startswith('0')):\n",
    "        group = 0\n",
    "        index_questionnaire_end = 27\n",
    "    else:\n",
    "        group = 1\n",
    "        index_questionnaire_end = 29\n",
    "    data[group][file] = {}\n",
    "    df = pd.read_csv(\"./data/\" + file, quotechar=\"\\\"\", names = [\"question\", \"answer1\", \"answer2\", \"answer3\"])\n",
    "    if df.shape[0] == 10:\n",
    "        df_songs = df\n",
    "        df_songs[\"correct\"] = [\"WINNER\" if s == \"False\" else \"LOSER\" for s in df_songs[\"answer1\"]]\n",
    "        df_songs.columns = [\"song\", \"is_last\", \"human\", \"with_ai\", \"correct\"]\n",
    "        data[group][file][\"songs\"] = df_songs\n",
    "    else:\n",
    "        df_songs = df.loc[0:9]\n",
    "        df_songs[\"correct\"] = [\"WINNER\" if s == \"False\" else \"LOSER\" for s in df_songs[\"answer1\"]]\n",
    "        df_songs.columns = [\"song\", \"is_last\", \"human\", \"with_ai\", \"correct\"]\n",
    "        data[group][file][\"songs\"] = df_songs\n",
    "        df_quests = df.loc[10:index_questionnaire_end][[\"question\",\"answer1\",\"answer2\"]]\n",
    "        df_quests.columns = [\"question\", \"answer\",\"detail\"]\n",
    "        data[group][file][\"questionnaire\"] = df_quests\n",
    "        times = df[index_questionnaire_end+1:].values[0][:3]\n",
    "        times = [float(t.strip()) for t in times]\n",
    "        diff_times = [times[1]-times[0], times[2]-times[1]]\n",
    "        data[group][file][\"times\"] = diff_times"
   ]
  },
  {
   "cell_type": "markdown",
   "id": "686c1d6b",
   "metadata": {},
   "source": [
    "### Calculate extra info"
   ]
  },
  {
   "cell_type": "code",
   "execution_count": 4,
   "id": "d52c5983",
   "metadata": {},
   "outputs": [],
   "source": [
    "def count_switches(df_songs):\n",
    "    try:\n",
    "        correct = df_songs[df_songs[\"human\"]==df_songs[\"correct\"]]\n",
    "        c_correct = correct.shape[0]\n",
    "        c_mislead = int(c_correct/2)\n",
    "        mislead_switch = correct[correct[\"human\"] != correct[\"with_ai\"]]\n",
    "        c_mislead_switch = mislead_switch.shape[0]\n",
    "        incorrect = df_songs[df_songs[\"human\"]!=df_songs[\"correct\"]]\n",
    "        c_incorrect = incorrect.shape[0]\n",
    "        assert c_correct+c_incorrect == 10\n",
    "        c_help = 5-(c_correct-c_mislead)\n",
    "        help_switch = incorrect[incorrect[\"human\"] != incorrect[\"with_ai\"]]\n",
    "        c_help_switch = help_switch.shape[0]\n",
    "        c_correct_ai = df_songs[df_songs[\"with_ai\"]==df_songs[\"correct\"]].shape[0]\n",
    "        return({\"num_correct\":c_correct, \"num_correct_ai\":c_correct_ai, \"num_mislead\":c_mislead, \"num_mislead_switch\":c_mislead_switch, \"num_incorrect\":c_incorrect, \"num_help\":c_help, \"num_help_switch\":c_help_switch, \"num_total_disagree\":c_mislead+c_help, \"num_total_switch\":c_mislead_switch+c_help_switch})\n",
    "    except:\n",
    "        print(df_songs)\n",
    "        return False"
   ]
  },
  {
   "cell_type": "code",
   "execution_count": 5,
   "id": "22bad3df",
   "metadata": {},
   "outputs": [],
   "source": [
    "for group in [0, 1]:\n",
    "    for file in data[group]:\n",
    "        counts = count_switches(data[group][file][\"songs\"])\n",
    "        data[group][file][\"switch_count\"] = counts"
   ]
  },
  {
   "cell_type": "code",
   "execution_count": 6,
   "id": "0c52b2e5",
   "metadata": {},
   "outputs": [
    {
     "data": {
      "text/plain": [
       "{'songs':   song is_last   human with_ai correct\n",
       " 0  649   False  WINNER  WINNER  WINNER\n",
       " 1  744    True   LOSER   LOSER   LOSER\n",
       " 2  400    True   LOSER   LOSER   LOSER\n",
       " 3  382   False   LOSER   LOSER  WINNER\n",
       " 4  768    True  WINNER  WINNER   LOSER\n",
       " 5  438    True  WINNER  WINNER   LOSER\n",
       " 6  626   False  WINNER  WINNER  WINNER\n",
       " 7  421   False   LOSER   LOSER  WINNER\n",
       " 8  362    True   LOSER   LOSER   LOSER\n",
       " 9  325   False   LOSER   LOSER  WINNER,\n",
       " 'questionnaire':    question             answer                      detail\n",
       " 10        1           UNLIKELY                         NaN\n",
       " 11        2              NEVER                         NaN\n",
       " 12        3                 NO                            \n",
       " 13        4                YES   The internet... Chat GPT \n",
       " 14        5                 28                         NaN\n",
       " 15        6               MALE                         NaN\n",
       " 16    rel_5              AGREE                         NaN\n",
       " 17    rel_1           DISAGREE                         NaN\n",
       " 18    com_1            NEUTRAL                         NaN\n",
       " 19    fai_4  STRONGLY DISAGREE                         NaN\n",
       " 20    com_2  STRONGLY DISAGREE                         NaN\n",
       " 21    com_3  STRONGLY DISAGREE                         NaN\n",
       " 22    fai_2  STRONGLY DISAGREE                         NaN\n",
       " 23    fai_5            NEUTRAL                         NaN\n",
       " 24    com_5              AGREE                         NaN\n",
       " 25    fai_3           DISAGREE                         NaN\n",
       " 26    rel_2           DISAGREE                         NaN\n",
       " 27    fai_1           DISAGREE                         NaN,\n",
       " 'times': [60.33872127532959, 204.61649680137634],\n",
       " 'switch_count': {'num_correct': 5,\n",
       "  'num_correct_ai': 5,\n",
       "  'num_mislead': 2,\n",
       "  'num_mislead_switch': 0,\n",
       "  'num_incorrect': 5,\n",
       "  'num_help': 2,\n",
       "  'num_help_switch': 0,\n",
       "  'num_total_disagree': 4,\n",
       "  'num_total_switch': 0}}"
      ]
     },
     "execution_count": 6,
     "metadata": {},
     "output_type": "execute_result"
    }
   ],
   "source": [
    "data[0][\"0_40.csv\"]"
   ]
  },
  {
   "cell_type": "markdown",
   "id": "cb5d78b1",
   "metadata": {},
   "source": [
    "### Reformat into one table"
   ]
  },
  {
   "cell_type": "code",
   "execution_count": 7,
   "id": "95233f83",
   "metadata": {},
   "outputs": [],
   "source": [
    "data_analysis = []\n",
    "likert_lookup = {\"STRONGLY AGREE\":2, \"AGREE\":1, \"NEUTRAL\":0, \"DISAGREE\":-1, \"STRONGLY DISAGREE\":-2}\n",
    "for group in [0, 1]:\n",
    "    for file in data[group]:\n",
    "\n",
    "        participant = {}\n",
    "        participant[\"group\"] = group\n",
    "        participant[\"file\"] = file\n",
    "        filenum = int(file.split(\"_\")[1].replace(\".csv\",\"\"))\n",
    "        participant[\"filenum\"] = filenum\n",
    "\n",
    "        if \"times\" in data[group][file]:\n",
    "            participant[\"questionnaire\"] = True\n",
    "            if (group == 0 and filenum > 22) or (group == 1 and filenum > 23):\n",
    "                participant[\"trust_questionnaire\"] = True\n",
    "            else:\n",
    "                participant[\"trust_questionnaire\"] = False\n",
    "            participant[\"time_alone\"] = data[group][file][\"times\"][0]\n",
    "            participant[\"time_ai\"] = data[group][file][\"times\"][1]\n",
    "            participant[\"time_total\"] = data[group][file][\"times\"][0] + data[group][file][\"times\"][1]\n",
    "\n",
    "            quest_results = data[group][file][\"questionnaire\"].set_index(\"question\")\n",
    "            participant[\"AI_successful\"] = ([\"VERY LIKELY\", \"LIKELY\", \"NEUTRAL\", \"UNLIKELY\", \"VERY UNLIKELY\"].index(quest_results.loc[\"1\"][\"answer\"])-2)*(-1)\n",
    "            participant[\"euro_watcher\"] = ([\"EVERY YEAR\", \"MOST YEARS\", \"SOMETIMES\", \"RARELY\", \"NEVER\"].index(quest_results.loc[\"2\"][\"answer\"])-2)*(-1)\n",
    "            participant[\"song_knowledge\"] = quest_results.loc[\"3\"][\"answer\"]\n",
    "            participant[\"song_knowledge_which\"] = quest_results.loc[\"3\"][\"detail\"]\n",
    "            participant[\"AI_knowledge\"] = quest_results.loc[\"4\"][\"answer\"]\n",
    "            participant[\"AI_knowledge_what\"] = quest_results.loc[\"4\"][\"detail\"]\n",
    "            participant[\"age\"] = quest_results.loc[\"5\"][\"answer\"]\n",
    "            participant[\"gender\"] = quest_results.loc[\"6\"][\"answer\"]\n",
    "            participant[\"rel_1\"] = likert_lookup[quest_results.loc[\"rel_1\"][\"answer\"]]\n",
    "            participant[\"rel_2\"] = likert_lookup[quest_results.loc[\"rel_2\"][\"answer\"]]\n",
    "            participant[\"rel_5\"] = likert_lookup[quest_results.loc[\"rel_5\"][\"answer\"]]\n",
    "            participant[\"com_1\"] = likert_lookup[quest_results.loc[\"com_1\"][\"answer\"]]\n",
    "            participant[\"com_2\"] = likert_lookup[quest_results.loc[\"com_2\"][\"answer\"]]\n",
    "            participant[\"com_3\"] = likert_lookup[quest_results.loc[\"com_3\"][\"answer\"]]\n",
    "            participant[\"com_5\"] = likert_lookup[quest_results.loc[\"com_5\"][\"answer\"]]\n",
    "            participant[\"fai_1\"] = likert_lookup[quest_results.loc[\"fai_1\"][\"answer\"]]\n",
    "            participant[\"fai_2\"] = likert_lookup[quest_results.loc[\"fai_2\"][\"answer\"]]\n",
    "            participant[\"fai_3\"] = likert_lookup[quest_results.loc[\"fai_3\"][\"answer\"]]\n",
    "            participant[\"fai_4\"] = likert_lookup[quest_results.loc[\"fai_4\"][\"answer\"]]\n",
    "            participant[\"fai_5\"] = likert_lookup[quest_results.loc[\"fai_5\"][\"answer\"]]\n",
    "            participant[\"rel\"] = (participant[\"rel_1\"] + participant[\"rel_2\"] + participant[\"rel_5\"])/3\n",
    "            participant[\"com\"] = (participant[\"com_1\"] + participant[\"com_2\"] + participant[\"com_3\"] + participant[\"com_3\"])/4\n",
    "            participant[\"fai\"] = (participant[\"fai_1\"] + participant[\"fai_2\"] + participant[\"fai_3\"] + participant[\"fai_4\"] + participant[\"fai_5\"])/5\n",
    "            participant[\"trust\"] = (participant[\"rel_1\"] + participant[\"rel_2\"] + participant[\"rel_5\"] + participant[\"com_1\"] + participant[\"com_2\"] + participant[\"com_3\"] + participant[\"com_3\"] + participant[\"fai_1\"] + participant[\"fai_2\"] + participant[\"fai_3\"] + participant[\"fai_4\"] + participant[\"fai_5\"])/12\n",
    "            \n",
    "            if \"7\" in quest_results.index:\n",
    "                participant[\"AI_answer_basis\"] = quest_results.loc[\"7\"][\"answer\"]\n",
    "                participant[\"AI_plausibility\"] = quest_results.loc[\"8\"][\"answer\"]\n",
    "            else:\n",
    "                participant[\"AI_answer_basis\"] = \"\"\n",
    "                participant[\"AI_plausibility\"] = \"\"\n",
    "\n",
    "        else:\n",
    "            participant[\"questionnaire\"] = False\n",
    "            participant[\"trust_questionnaire\"] = False\n",
    "\n",
    "        for key in data[group][file][\"switch_count\"]:\n",
    "            participant[key] = data[group][file][\"switch_count\"][key]\n",
    "        participant[\"ratio_switch\"] = participant[\"num_total_switch\"]/participant[\"num_total_disagree\"]\n",
    "        if participant[\"num_help\"]:\n",
    "            participant[\"ratio_help\"] = participant[\"num_help_switch\"]/participant[\"num_help\"]\n",
    "        participant[\"ratio_mislead\"] = participant[\"num_mislead_switch\"]/participant[\"num_mislead\"]\n",
    "\n",
    "        data_analysis.append(participant)\n",
    "\n",
    "df_data = pd.DataFrame(data_analysis)"
   ]
  },
  {
   "cell_type": "code",
   "execution_count": 8,
   "id": "9d6c60db",
   "metadata": {},
   "outputs": [
    {
     "data": {
      "text/html": [
       "<div>\n",
       "<style scoped>\n",
       "    .dataframe tbody tr th:only-of-type {\n",
       "        vertical-align: middle;\n",
       "    }\n",
       "\n",
       "    .dataframe tbody tr th {\n",
       "        vertical-align: top;\n",
       "    }\n",
       "\n",
       "    .dataframe thead th {\n",
       "        text-align: right;\n",
       "    }\n",
       "</style>\n",
       "<table border=\"1\" class=\"dataframe\">\n",
       "  <thead>\n",
       "    <tr style=\"text-align: right;\">\n",
       "      <th></th>\n",
       "      <th>file</th>\n",
       "      <th>num_correct</th>\n",
       "      <th>num_correct_ai</th>\n",
       "      <th>num_mislead</th>\n",
       "      <th>num_mislead_switch</th>\n",
       "      <th>num_incorrect</th>\n",
       "      <th>num_help</th>\n",
       "      <th>num_help_switch</th>\n",
       "      <th>num_total_disagree</th>\n",
       "      <th>num_total_switch</th>\n",
       "      <th>ratio_switch</th>\n",
       "      <th>ratio_mislead</th>\n",
       "      <th>ratio_help</th>\n",
       "    </tr>\n",
       "  </thead>\n",
       "  <tbody>\n",
       "    <tr>\n",
       "      <th>0</th>\n",
       "      <td>0_0.csv</td>\n",
       "      <td>6</td>\n",
       "      <td>6</td>\n",
       "      <td>3</td>\n",
       "      <td>0</td>\n",
       "      <td>4</td>\n",
       "      <td>2</td>\n",
       "      <td>0</td>\n",
       "      <td>5</td>\n",
       "      <td>0</td>\n",
       "      <td>0.0</td>\n",
       "      <td>0.000000</td>\n",
       "      <td>0.0</td>\n",
       "    </tr>\n",
       "    <tr>\n",
       "      <th>1</th>\n",
       "      <td>0_1.csv</td>\n",
       "      <td>4</td>\n",
       "      <td>4</td>\n",
       "      <td>2</td>\n",
       "      <td>0</td>\n",
       "      <td>6</td>\n",
       "      <td>3</td>\n",
       "      <td>0</td>\n",
       "      <td>5</td>\n",
       "      <td>0</td>\n",
       "      <td>0.0</td>\n",
       "      <td>0.000000</td>\n",
       "      <td>0.0</td>\n",
       "    </tr>\n",
       "    <tr>\n",
       "      <th>2</th>\n",
       "      <td>0_10.csv</td>\n",
       "      <td>6</td>\n",
       "      <td>6</td>\n",
       "      <td>3</td>\n",
       "      <td>1</td>\n",
       "      <td>4</td>\n",
       "      <td>2</td>\n",
       "      <td>1</td>\n",
       "      <td>5</td>\n",
       "      <td>2</td>\n",
       "      <td>0.4</td>\n",
       "      <td>0.333333</td>\n",
       "      <td>0.5</td>\n",
       "    </tr>\n",
       "    <tr>\n",
       "      <th>3</th>\n",
       "      <td>0_11.csv</td>\n",
       "      <td>3</td>\n",
       "      <td>3</td>\n",
       "      <td>1</td>\n",
       "      <td>0</td>\n",
       "      <td>7</td>\n",
       "      <td>3</td>\n",
       "      <td>0</td>\n",
       "      <td>4</td>\n",
       "      <td>0</td>\n",
       "      <td>0.0</td>\n",
       "      <td>0.000000</td>\n",
       "      <td>0.0</td>\n",
       "    </tr>\n",
       "    <tr>\n",
       "      <th>4</th>\n",
       "      <td>0_12.csv</td>\n",
       "      <td>9</td>\n",
       "      <td>9</td>\n",
       "      <td>4</td>\n",
       "      <td>0</td>\n",
       "      <td>1</td>\n",
       "      <td>0</td>\n",
       "      <td>0</td>\n",
       "      <td>4</td>\n",
       "      <td>0</td>\n",
       "      <td>0.0</td>\n",
       "      <td>0.000000</td>\n",
       "      <td>NaN</td>\n",
       "    </tr>\n",
       "    <tr>\n",
       "      <th>...</th>\n",
       "      <td>...</td>\n",
       "      <td>...</td>\n",
       "      <td>...</td>\n",
       "      <td>...</td>\n",
       "      <td>...</td>\n",
       "      <td>...</td>\n",
       "      <td>...</td>\n",
       "      <td>...</td>\n",
       "      <td>...</td>\n",
       "      <td>...</td>\n",
       "      <td>...</td>\n",
       "      <td>...</td>\n",
       "      <td>...</td>\n",
       "    </tr>\n",
       "    <tr>\n",
       "      <th>75</th>\n",
       "      <td>1_5.csv</td>\n",
       "      <td>8</td>\n",
       "      <td>8</td>\n",
       "      <td>4</td>\n",
       "      <td>0</td>\n",
       "      <td>2</td>\n",
       "      <td>1</td>\n",
       "      <td>0</td>\n",
       "      <td>5</td>\n",
       "      <td>0</td>\n",
       "      <td>0.0</td>\n",
       "      <td>0.000000</td>\n",
       "      <td>0.0</td>\n",
       "    </tr>\n",
       "    <tr>\n",
       "      <th>76</th>\n",
       "      <td>1_6.csv</td>\n",
       "      <td>8</td>\n",
       "      <td>8</td>\n",
       "      <td>4</td>\n",
       "      <td>0</td>\n",
       "      <td>2</td>\n",
       "      <td>1</td>\n",
       "      <td>0</td>\n",
       "      <td>5</td>\n",
       "      <td>0</td>\n",
       "      <td>0.0</td>\n",
       "      <td>0.000000</td>\n",
       "      <td>0.0</td>\n",
       "    </tr>\n",
       "    <tr>\n",
       "      <th>77</th>\n",
       "      <td>1_7.csv</td>\n",
       "      <td>4</td>\n",
       "      <td>4</td>\n",
       "      <td>2</td>\n",
       "      <td>0</td>\n",
       "      <td>6</td>\n",
       "      <td>3</td>\n",
       "      <td>0</td>\n",
       "      <td>5</td>\n",
       "      <td>0</td>\n",
       "      <td>0.0</td>\n",
       "      <td>0.000000</td>\n",
       "      <td>0.0</td>\n",
       "    </tr>\n",
       "    <tr>\n",
       "      <th>78</th>\n",
       "      <td>1_8.csv</td>\n",
       "      <td>7</td>\n",
       "      <td>7</td>\n",
       "      <td>3</td>\n",
       "      <td>0</td>\n",
       "      <td>3</td>\n",
       "      <td>1</td>\n",
       "      <td>0</td>\n",
       "      <td>4</td>\n",
       "      <td>0</td>\n",
       "      <td>0.0</td>\n",
       "      <td>0.000000</td>\n",
       "      <td>0.0</td>\n",
       "    </tr>\n",
       "    <tr>\n",
       "      <th>79</th>\n",
       "      <td>1_9.csv</td>\n",
       "      <td>5</td>\n",
       "      <td>5</td>\n",
       "      <td>2</td>\n",
       "      <td>0</td>\n",
       "      <td>5</td>\n",
       "      <td>2</td>\n",
       "      <td>0</td>\n",
       "      <td>4</td>\n",
       "      <td>0</td>\n",
       "      <td>0.0</td>\n",
       "      <td>0.000000</td>\n",
       "      <td>0.0</td>\n",
       "    </tr>\n",
       "  </tbody>\n",
       "</table>\n",
       "<p>80 rows × 13 columns</p>\n",
       "</div>"
      ],
      "text/plain": [
       "        file  num_correct  num_correct_ai  num_mislead  num_mislead_switch  \\\n",
       "0    0_0.csv            6               6            3                   0   \n",
       "1    0_1.csv            4               4            2                   0   \n",
       "2   0_10.csv            6               6            3                   1   \n",
       "3   0_11.csv            3               3            1                   0   \n",
       "4   0_12.csv            9               9            4                   0   \n",
       "..       ...          ...             ...          ...                 ...   \n",
       "75   1_5.csv            8               8            4                   0   \n",
       "76   1_6.csv            8               8            4                   0   \n",
       "77   1_7.csv            4               4            2                   0   \n",
       "78   1_8.csv            7               7            3                   0   \n",
       "79   1_9.csv            5               5            2                   0   \n",
       "\n",
       "    num_incorrect  num_help  num_help_switch  num_total_disagree  \\\n",
       "0               4         2                0                   5   \n",
       "1               6         3                0                   5   \n",
       "2               4         2                1                   5   \n",
       "3               7         3                0                   4   \n",
       "4               1         0                0                   4   \n",
       "..            ...       ...              ...                 ...   \n",
       "75              2         1                0                   5   \n",
       "76              2         1                0                   5   \n",
       "77              6         3                0                   5   \n",
       "78              3         1                0                   4   \n",
       "79              5         2                0                   4   \n",
       "\n",
       "    num_total_switch  ratio_switch  ratio_mislead  ratio_help  \n",
       "0                  0           0.0       0.000000         0.0  \n",
       "1                  0           0.0       0.000000         0.0  \n",
       "2                  2           0.4       0.333333         0.5  \n",
       "3                  0           0.0       0.000000         0.0  \n",
       "4                  0           0.0       0.000000         NaN  \n",
       "..               ...           ...            ...         ...  \n",
       "75                 0           0.0       0.000000         0.0  \n",
       "76                 0           0.0       0.000000         0.0  \n",
       "77                 0           0.0       0.000000         0.0  \n",
       "78                 0           0.0       0.000000         0.0  \n",
       "79                 0           0.0       0.000000         0.0  \n",
       "\n",
       "[80 rows x 13 columns]"
      ]
     },
     "execution_count": 8,
     "metadata": {},
     "output_type": "execute_result"
    }
   ],
   "source": [
    "df_data[[\"file\",'num_correct', 'num_correct_ai',\n",
    "  'num_mislead',\n",
    "  'num_mislead_switch',\n",
    "  'num_incorrect',\n",
    "  'num_help',\n",
    "  'num_help_switch',\n",
    "  'num_total_disagree',\n",
    "  'num_total_switch',\"ratio_switch\", \"ratio_mislead\", \"ratio_help\"]]"
   ]
  },
  {
   "cell_type": "code",
   "execution_count": 9,
   "id": "2e6a4260",
   "metadata": {
    "scrolled": true
   },
   "outputs": [
    {
     "data": {
      "text/html": [
       "<div>\n",
       "<style scoped>\n",
       "    .dataframe tbody tr th:only-of-type {\n",
       "        vertical-align: middle;\n",
       "    }\n",
       "\n",
       "    .dataframe tbody tr th {\n",
       "        vertical-align: top;\n",
       "    }\n",
       "\n",
       "    .dataframe thead th {\n",
       "        text-align: right;\n",
       "    }\n",
       "</style>\n",
       "<table border=\"1\" class=\"dataframe\">\n",
       "  <thead>\n",
       "    <tr style=\"text-align: right;\">\n",
       "      <th></th>\n",
       "      <th>group</th>\n",
       "      <th>file</th>\n",
       "      <th>filenum</th>\n",
       "      <th>questionnaire</th>\n",
       "      <th>trust_questionnaire</th>\n",
       "      <th>time_alone</th>\n",
       "      <th>time_ai</th>\n",
       "      <th>time_total</th>\n",
       "      <th>AI_successful</th>\n",
       "      <th>euro_watcher</th>\n",
       "      <th>...</th>\n",
       "      <th>num_mislead</th>\n",
       "      <th>num_mislead_switch</th>\n",
       "      <th>num_incorrect</th>\n",
       "      <th>num_help</th>\n",
       "      <th>num_help_switch</th>\n",
       "      <th>num_total_disagree</th>\n",
       "      <th>num_total_switch</th>\n",
       "      <th>ratio_switch</th>\n",
       "      <th>ratio_help</th>\n",
       "      <th>ratio_mislead</th>\n",
       "    </tr>\n",
       "  </thead>\n",
       "  <tbody>\n",
       "    <tr>\n",
       "      <th>0</th>\n",
       "      <td>0</td>\n",
       "      <td>0_0.csv</td>\n",
       "      <td>0</td>\n",
       "      <td>True</td>\n",
       "      <td>False</td>\n",
       "      <td>56.435961</td>\n",
       "      <td>108.015340</td>\n",
       "      <td>164.451300</td>\n",
       "      <td>-1.0</td>\n",
       "      <td>2.0</td>\n",
       "      <td>...</td>\n",
       "      <td>3</td>\n",
       "      <td>0</td>\n",
       "      <td>4</td>\n",
       "      <td>2</td>\n",
       "      <td>0</td>\n",
       "      <td>5</td>\n",
       "      <td>0</td>\n",
       "      <td>0.0</td>\n",
       "      <td>0.0</td>\n",
       "      <td>0.000000</td>\n",
       "    </tr>\n",
       "    <tr>\n",
       "      <th>1</th>\n",
       "      <td>0</td>\n",
       "      <td>0_1.csv</td>\n",
       "      <td>1</td>\n",
       "      <td>False</td>\n",
       "      <td>False</td>\n",
       "      <td>NaN</td>\n",
       "      <td>NaN</td>\n",
       "      <td>NaN</td>\n",
       "      <td>NaN</td>\n",
       "      <td>NaN</td>\n",
       "      <td>...</td>\n",
       "      <td>2</td>\n",
       "      <td>0</td>\n",
       "      <td>6</td>\n",
       "      <td>3</td>\n",
       "      <td>0</td>\n",
       "      <td>5</td>\n",
       "      <td>0</td>\n",
       "      <td>0.0</td>\n",
       "      <td>0.0</td>\n",
       "      <td>0.000000</td>\n",
       "    </tr>\n",
       "    <tr>\n",
       "      <th>2</th>\n",
       "      <td>0</td>\n",
       "      <td>0_10.csv</td>\n",
       "      <td>10</td>\n",
       "      <td>True</td>\n",
       "      <td>False</td>\n",
       "      <td>152.498775</td>\n",
       "      <td>267.397878</td>\n",
       "      <td>419.896653</td>\n",
       "      <td>0.0</td>\n",
       "      <td>1.0</td>\n",
       "      <td>...</td>\n",
       "      <td>3</td>\n",
       "      <td>1</td>\n",
       "      <td>4</td>\n",
       "      <td>2</td>\n",
       "      <td>1</td>\n",
       "      <td>5</td>\n",
       "      <td>2</td>\n",
       "      <td>0.4</td>\n",
       "      <td>0.5</td>\n",
       "      <td>0.333333</td>\n",
       "    </tr>\n",
       "    <tr>\n",
       "      <th>3</th>\n",
       "      <td>0</td>\n",
       "      <td>0_11.csv</td>\n",
       "      <td>11</td>\n",
       "      <td>False</td>\n",
       "      <td>False</td>\n",
       "      <td>NaN</td>\n",
       "      <td>NaN</td>\n",
       "      <td>NaN</td>\n",
       "      <td>NaN</td>\n",
       "      <td>NaN</td>\n",
       "      <td>...</td>\n",
       "      <td>1</td>\n",
       "      <td>0</td>\n",
       "      <td>7</td>\n",
       "      <td>3</td>\n",
       "      <td>0</td>\n",
       "      <td>4</td>\n",
       "      <td>0</td>\n",
       "      <td>0.0</td>\n",
       "      <td>0.0</td>\n",
       "      <td>0.000000</td>\n",
       "    </tr>\n",
       "    <tr>\n",
       "      <th>4</th>\n",
       "      <td>0</td>\n",
       "      <td>0_12.csv</td>\n",
       "      <td>12</td>\n",
       "      <td>True</td>\n",
       "      <td>False</td>\n",
       "      <td>42.308878</td>\n",
       "      <td>296.677510</td>\n",
       "      <td>338.986388</td>\n",
       "      <td>1.0</td>\n",
       "      <td>2.0</td>\n",
       "      <td>...</td>\n",
       "      <td>4</td>\n",
       "      <td>0</td>\n",
       "      <td>1</td>\n",
       "      <td>0</td>\n",
       "      <td>0</td>\n",
       "      <td>4</td>\n",
       "      <td>0</td>\n",
       "      <td>0.0</td>\n",
       "      <td>NaN</td>\n",
       "      <td>0.000000</td>\n",
       "    </tr>\n",
       "    <tr>\n",
       "      <th>...</th>\n",
       "      <td>...</td>\n",
       "      <td>...</td>\n",
       "      <td>...</td>\n",
       "      <td>...</td>\n",
       "      <td>...</td>\n",
       "      <td>...</td>\n",
       "      <td>...</td>\n",
       "      <td>...</td>\n",
       "      <td>...</td>\n",
       "      <td>...</td>\n",
       "      <td>...</td>\n",
       "      <td>...</td>\n",
       "      <td>...</td>\n",
       "      <td>...</td>\n",
       "      <td>...</td>\n",
       "      <td>...</td>\n",
       "      <td>...</td>\n",
       "      <td>...</td>\n",
       "      <td>...</td>\n",
       "      <td>...</td>\n",
       "      <td>...</td>\n",
       "    </tr>\n",
       "    <tr>\n",
       "      <th>75</th>\n",
       "      <td>1</td>\n",
       "      <td>1_5.csv</td>\n",
       "      <td>5</td>\n",
       "      <td>True</td>\n",
       "      <td>False</td>\n",
       "      <td>490.455578</td>\n",
       "      <td>379.173725</td>\n",
       "      <td>869.629302</td>\n",
       "      <td>-1.0</td>\n",
       "      <td>2.0</td>\n",
       "      <td>...</td>\n",
       "      <td>4</td>\n",
       "      <td>0</td>\n",
       "      <td>2</td>\n",
       "      <td>1</td>\n",
       "      <td>0</td>\n",
       "      <td>5</td>\n",
       "      <td>0</td>\n",
       "      <td>0.0</td>\n",
       "      <td>0.0</td>\n",
       "      <td>0.000000</td>\n",
       "    </tr>\n",
       "    <tr>\n",
       "      <th>76</th>\n",
       "      <td>1</td>\n",
       "      <td>1_6.csv</td>\n",
       "      <td>6</td>\n",
       "      <td>True</td>\n",
       "      <td>False</td>\n",
       "      <td>215.980422</td>\n",
       "      <td>136.529978</td>\n",
       "      <td>352.510399</td>\n",
       "      <td>0.0</td>\n",
       "      <td>0.0</td>\n",
       "      <td>...</td>\n",
       "      <td>4</td>\n",
       "      <td>0</td>\n",
       "      <td>2</td>\n",
       "      <td>1</td>\n",
       "      <td>0</td>\n",
       "      <td>5</td>\n",
       "      <td>0</td>\n",
       "      <td>0.0</td>\n",
       "      <td>0.0</td>\n",
       "      <td>0.000000</td>\n",
       "    </tr>\n",
       "    <tr>\n",
       "      <th>77</th>\n",
       "      <td>1</td>\n",
       "      <td>1_7.csv</td>\n",
       "      <td>7</td>\n",
       "      <td>False</td>\n",
       "      <td>False</td>\n",
       "      <td>NaN</td>\n",
       "      <td>NaN</td>\n",
       "      <td>NaN</td>\n",
       "      <td>NaN</td>\n",
       "      <td>NaN</td>\n",
       "      <td>...</td>\n",
       "      <td>2</td>\n",
       "      <td>0</td>\n",
       "      <td>6</td>\n",
       "      <td>3</td>\n",
       "      <td>0</td>\n",
       "      <td>5</td>\n",
       "      <td>0</td>\n",
       "      <td>0.0</td>\n",
       "      <td>0.0</td>\n",
       "      <td>0.000000</td>\n",
       "    </tr>\n",
       "    <tr>\n",
       "      <th>78</th>\n",
       "      <td>1</td>\n",
       "      <td>1_8.csv</td>\n",
       "      <td>8</td>\n",
       "      <td>True</td>\n",
       "      <td>False</td>\n",
       "      <td>70.825543</td>\n",
       "      <td>107.343128</td>\n",
       "      <td>178.168671</td>\n",
       "      <td>1.0</td>\n",
       "      <td>1.0</td>\n",
       "      <td>...</td>\n",
       "      <td>3</td>\n",
       "      <td>0</td>\n",
       "      <td>3</td>\n",
       "      <td>1</td>\n",
       "      <td>0</td>\n",
       "      <td>4</td>\n",
       "      <td>0</td>\n",
       "      <td>0.0</td>\n",
       "      <td>0.0</td>\n",
       "      <td>0.000000</td>\n",
       "    </tr>\n",
       "    <tr>\n",
       "      <th>79</th>\n",
       "      <td>1</td>\n",
       "      <td>1_9.csv</td>\n",
       "      <td>9</td>\n",
       "      <td>False</td>\n",
       "      <td>False</td>\n",
       "      <td>NaN</td>\n",
       "      <td>NaN</td>\n",
       "      <td>NaN</td>\n",
       "      <td>NaN</td>\n",
       "      <td>NaN</td>\n",
       "      <td>...</td>\n",
       "      <td>2</td>\n",
       "      <td>0</td>\n",
       "      <td>5</td>\n",
       "      <td>2</td>\n",
       "      <td>0</td>\n",
       "      <td>4</td>\n",
       "      <td>0</td>\n",
       "      <td>0.0</td>\n",
       "      <td>0.0</td>\n",
       "      <td>0.000000</td>\n",
       "    </tr>\n",
       "  </tbody>\n",
       "</table>\n",
       "<p>80 rows × 46 columns</p>\n",
       "</div>"
      ],
      "text/plain": [
       "    group      file  filenum  questionnaire  trust_questionnaire  time_alone  \\\n",
       "0       0   0_0.csv        0           True                False   56.435961   \n",
       "1       0   0_1.csv        1          False                False         NaN   \n",
       "2       0  0_10.csv       10           True                False  152.498775   \n",
       "3       0  0_11.csv       11          False                False         NaN   \n",
       "4       0  0_12.csv       12           True                False   42.308878   \n",
       "..    ...       ...      ...            ...                  ...         ...   \n",
       "75      1   1_5.csv        5           True                False  490.455578   \n",
       "76      1   1_6.csv        6           True                False  215.980422   \n",
       "77      1   1_7.csv        7          False                False         NaN   \n",
       "78      1   1_8.csv        8           True                False   70.825543   \n",
       "79      1   1_9.csv        9          False                False         NaN   \n",
       "\n",
       "       time_ai  time_total  AI_successful  euro_watcher  ... num_mislead  \\\n",
       "0   108.015340  164.451300           -1.0           2.0  ...           3   \n",
       "1          NaN         NaN            NaN           NaN  ...           2   \n",
       "2   267.397878  419.896653            0.0           1.0  ...           3   \n",
       "3          NaN         NaN            NaN           NaN  ...           1   \n",
       "4   296.677510  338.986388            1.0           2.0  ...           4   \n",
       "..         ...         ...            ...           ...  ...         ...   \n",
       "75  379.173725  869.629302           -1.0           2.0  ...           4   \n",
       "76  136.529978  352.510399            0.0           0.0  ...           4   \n",
       "77         NaN         NaN            NaN           NaN  ...           2   \n",
       "78  107.343128  178.168671            1.0           1.0  ...           3   \n",
       "79         NaN         NaN            NaN           NaN  ...           2   \n",
       "\n",
       "   num_mislead_switch num_incorrect num_help num_help_switch  \\\n",
       "0                   0             4        2               0   \n",
       "1                   0             6        3               0   \n",
       "2                   1             4        2               1   \n",
       "3                   0             7        3               0   \n",
       "4                   0             1        0               0   \n",
       "..                ...           ...      ...             ...   \n",
       "75                  0             2        1               0   \n",
       "76                  0             2        1               0   \n",
       "77                  0             6        3               0   \n",
       "78                  0             3        1               0   \n",
       "79                  0             5        2               0   \n",
       "\n",
       "   num_total_disagree  num_total_switch  ratio_switch  ratio_help  \\\n",
       "0                   5                 0           0.0         0.0   \n",
       "1                   5                 0           0.0         0.0   \n",
       "2                   5                 2           0.4         0.5   \n",
       "3                   4                 0           0.0         0.0   \n",
       "4                   4                 0           0.0         NaN   \n",
       "..                ...               ...           ...         ...   \n",
       "75                  5                 0           0.0         0.0   \n",
       "76                  5                 0           0.0         0.0   \n",
       "77                  5                 0           0.0         0.0   \n",
       "78                  4                 0           0.0         0.0   \n",
       "79                  4                 0           0.0         0.0   \n",
       "\n",
       "    ratio_mislead  \n",
       "0        0.000000  \n",
       "1        0.000000  \n",
       "2        0.333333  \n",
       "3        0.000000  \n",
       "4        0.000000  \n",
       "..            ...  \n",
       "75       0.000000  \n",
       "76       0.000000  \n",
       "77       0.000000  \n",
       "78       0.000000  \n",
       "79       0.000000  \n",
       "\n",
       "[80 rows x 46 columns]"
      ]
     },
     "execution_count": 9,
     "metadata": {},
     "output_type": "execute_result"
    }
   ],
   "source": [
    "df_data"
   ]
  },
  {
   "cell_type": "code",
   "execution_count": 10,
   "id": "d6814f1e",
   "metadata": {},
   "outputs": [
    {
     "data": {
      "text/plain": [
       "Index(['group', 'file', 'filenum', 'questionnaire', 'trust_questionnaire',\n",
       "       'time_alone', 'time_ai', 'time_total', 'AI_successful', 'euro_watcher',\n",
       "       'song_knowledge', 'song_knowledge_which', 'AI_knowledge',\n",
       "       'AI_knowledge_what', 'age', 'gender', 'rel_1', 'rel_2', 'rel_5',\n",
       "       'com_1', 'com_2', 'com_3', 'com_5', 'fai_1', 'fai_2', 'fai_3', 'fai_4',\n",
       "       'fai_5', 'rel', 'com', 'fai', 'trust', 'AI_answer_basis',\n",
       "       'AI_plausibility', 'num_correct', 'num_correct_ai', 'num_mislead',\n",
       "       'num_mislead_switch', 'num_incorrect', 'num_help', 'num_help_switch',\n",
       "       'num_total_disagree', 'num_total_switch', 'ratio_switch', 'ratio_help',\n",
       "       'ratio_mislead'],\n",
       "      dtype='object')"
      ]
     },
     "execution_count": 10,
     "metadata": {},
     "output_type": "execute_result"
    }
   ],
   "source": [
    "df_data.columns"
   ]
  },
  {
   "cell_type": "markdown",
   "id": "cfaf2a4a",
   "metadata": {},
   "source": [
    "# Analysis and Visualization \n",
    "\n",
    "### Functions"
   ]
  },
  {
   "cell_type": "code",
   "execution_count": 22,
   "id": "f6b59fba",
   "metadata": {},
   "outputs": [],
   "source": [
    "def compare(columns, df0 = df_0, df1 = df_1):\n",
    "    for c in columns:\n",
    "        print(c, \"\\n\")\n",
    "        print(\"All\")\n",
    "        print(\"Mean:\", np.nanmean(list(df0[c])+list(df1[c])))\n",
    "        print(\"Std:\", np.std(list(df0[c])+list(df1[c])))\n",
    "        print(\"Min & Max:\", min(list(df0[c])+list(df1[c])), max(list(df0[c])+list(df1[c])))\n",
    "        print(\"\\n\")\n",
    "        print(\"Group 0\")\n",
    "        print(\"Mean:\", np.nanmean(df0[c]))\n",
    "        print(\"Std:\", np.std(df0[c]))\n",
    "        print(\"Min & Max:\", min(df0[c]), max(df0[c]))\n",
    "        print(\"\\n\")\n",
    "        print(\"Group 1\")\n",
    "        print(\"Mean:\", np.nanmean(df1[c]))\n",
    "        print(\"Std:\", np.std(df1[c]))\n",
    "        print(\"Min & Max:\", min(df1[c]), max(df1[c]))\n",
    "        print(\"\\n\")\n",
    "        #print(df0.dropna()[c], df1.dropna()[c])\n",
    "        print(stats.ttest_ind(df0.dropna()[c], df1.dropna()[c]))\n",
    "        print(\"\\n---\\n\")"
   ]
  },
  {
   "cell_type": "code",
   "execution_count": 23,
   "id": "8ced87e5",
   "metadata": {},
   "outputs": [],
   "source": [
    "def set_axis_style(ax, labels):\n",
    "        ax.set_xticks(np.arange(1, len(labels) + 1), labels=labels)\n",
    "        ax.set_xlim(0.25, len(labels) + 0.75)\n",
    "        #ax.set_xlabel('Group')\n",
    "\n",
    "def make_bv_plot(columns, titles, n_rows, n_columns, y_values, w = 6, h = 6, df0 = df_0, df1 = df_1, plot = \"box\"):\n",
    "    assert n_rows * n_columns == len(columns)\n",
    "    fig, axes = plt.subplots(nrows=n_rows, ncols=n_columns, figsize=(w,h), sharey=True)\n",
    "\n",
    "    if len(y_values) == 1:\n",
    "        y_values = y_values*len(columns)\n",
    "\n",
    "    # set style for the axes\n",
    "    labels = ['w/o', 'w']\n",
    "    i = 0\n",
    "    if n_rows > 1:\n",
    "        for axe in axes:\n",
    "            for ax in axe:\n",
    "                data_0 = np.array(list(df0[columns[i]]))\n",
    "                data_1 = np.array(list(df1[columns[i]]))\n",
    "                data_0 = data_0[~np.isnan(data_0)]\n",
    "                data_1 = data_1[~np.isnan(data_1)]\n",
    "                data = [data_0, data_1]\n",
    "                ax.set_title(titles[i])\n",
    "                if plot == \"box\":\n",
    "                    ax.boxplot(data)\n",
    "                elif plot == \"violin\":\n",
    "                    ax.violinplot(data)\n",
    "                ax.set_ylim(y_values[i])\n",
    "                set_axis_style(ax, labels)\n",
    "                i += 1\n",
    "    elif n_columns > 1:\n",
    "        for ax in axes:\n",
    "            data_0 = np.array(list(df0[columns[i]]))\n",
    "            data_1 = np.array(list(df1[columns[i]]))\n",
    "            data_0 = data_0[~np.isnan(data_0)]\n",
    "            data_1 = data_1[~np.isnan(data_1)]\n",
    "            data = [data_0, data_1]\n",
    "            #print(data)\n",
    "            #print(np.mean(data_0), np.mean(data_1))\n",
    "            ax.set_title(titles[i])\n",
    "            if plot == \"box\":\n",
    "                ax.boxplot(data)#, showmeans = True)\n",
    "            elif plot == \"violin\":\n",
    "                ax.violinplot(data)\n",
    "            ax.set_ylim(y_values[i])\n",
    "            set_axis_style(ax, labels)\n",
    "            i += 1\n",
    "    else:\n",
    "        data_0 = np.array(list(df0[columns[i]]))\n",
    "        data_1 = np.array(list(df1[columns[i]]))\n",
    "        data_0 = data_0[~np.isnan(data_0)]\n",
    "        data_1 = data_1[~np.isnan(data_1)]\n",
    "        data = [data_0, data_1]\n",
    "        ax = axes\n",
    "        ax.set_title(titles[i])\n",
    "        if plot == \"box\":\n",
    "            ax.boxplot(data)\n",
    "        elif plot == \"violin\":\n",
    "            ax.violinplot(data)\n",
    "        set_axis_style(ax, labels)\n",
    "        i += 1\n",
    "        \n",
    "\n",
    "    plt.subplots_adjust(hspace=0.25)\n",
    "    #plt.show()\n",
    "    plt.savefig(str(columns)+\".png\")"
   ]
  },
  {
   "cell_type": "code",
   "execution_count": 24,
   "id": "788c3d21",
   "metadata": {},
   "outputs": [],
   "source": [
    "def survey(results, category_names, name, question, height = 0.5, legend = True, x_invisible = True, cmap = 'RdYlGn', use_bar_labels = False, bar_labels = None):\n",
    "    \"\"\"\n",
    "    Parameters\n",
    "    ----------\n",
    "    results : dict\n",
    "        A mapping from question labels to a list of answers per category.\n",
    "        It is assumed all lists contain the same number of entries and that\n",
    "        it matches the length of *category_names*.\n",
    "    category_names : list of str\n",
    "        The category labels.\n",
    "    \"\"\"\n",
    "    labels = list(results.keys())\n",
    "    data = np.array(list(results.values()))\n",
    "    data_cum = data.cumsum(axis=1)\n",
    "    category_colors = plt.colormaps[cmap](\n",
    "        np.linspace(0.15, 0.85, data.shape[1]))\n",
    "\n",
    "    fig, ax = plt.subplots(figsize=(6,height), sharey = True)\n",
    "    ax.invert_yaxis()\n",
    "    if x_invisible: ax.xaxis.set_visible(False)\n",
    "    ax.set_xlim(0, np.sum(data, axis=1).max())\n",
    "\n",
    "    for i, (colname, color) in enumerate(zip(category_names, category_colors)):\n",
    "        widths = data[:, i]\n",
    "        starts = data_cum[:, i] - widths\n",
    "        print(widths, starts)\n",
    "        #print(colname)\n",
    "        rects = ax.barh(labels, widths, left=starts, height=0.7, label=colname, color=color)\n",
    "\n",
    "        r, g, b, _ = color\n",
    "        text_color = 'white' if r * g * b < 0.5 else 'darkgrey'\n",
    "        if use_bar_labels:\n",
    "            ax.bar_label(rects, bar_labels[i], label_type='center', color=text_color)#, fontsize = 4)\n",
    "    if legend: ax.legend(bbox_to_anchor=(-0.02, 0),loc='upper left',ncol = 5, fontsize=7)\n",
    "    ax.set_title(question)\n",
    "    plt.savefig(name+\".png\", bbox_inches=\"tight\")"
   ]
  },
  {
   "cell_type": "markdown",
   "id": "9970ec15",
   "metadata": {},
   "source": [
    "## General Stuff"
   ]
  },
  {
   "cell_type": "markdown",
   "id": "c59efb64",
   "metadata": {},
   "source": [
    "### Demographics"
   ]
  },
  {
   "cell_type": "code",
   "execution_count": 25,
   "id": "a18e2f3c",
   "metadata": {},
   "outputs": [
    {
     "data": {
      "text/plain": [
       "Counter({'FEMALE': 12, 'PREFER TO SELF-IDENTIFY': 2, 'MALE': 21})"
      ]
     },
     "execution_count": 25,
     "metadata": {},
     "output_type": "execute_result"
    }
   ],
   "source": [
    "Counter(df_0_q[\"gender\"])"
   ]
  },
  {
   "cell_type": "code",
   "execution_count": 26,
   "id": "522d54c4",
   "metadata": {},
   "outputs": [
    {
     "data": {
      "text/plain": [
       "Counter({'MALE': 21, 'FEMALE': 10, 'PREFER TO SELF-IDENTIFY': 2})"
      ]
     },
     "execution_count": 26,
     "metadata": {},
     "output_type": "execute_result"
    }
   ],
   "source": [
    "Counter(df_1_q[\"gender\"])"
   ]
  },
  {
   "cell_type": "code",
   "execution_count": 27,
   "id": "b7bfb1c2",
   "metadata": {},
   "outputs": [
    {
     "name": "stdout",
     "output_type": "stream",
     "text": [
      "40\n",
      "40\n",
      "80\n",
      "35\n",
      "33\n",
      "16\n",
      "15\n",
      "68\n"
     ]
    }
   ],
   "source": [
    "df_0 = df_data[df_data[\"group\"] == 0]\n",
    "df_1 = df_data[df_data[\"group\"] == 1]\n",
    "\n",
    "print(len(df_0))\n",
    "print(len(df_1))\n",
    "print(len(df_data))\n",
    "\n",
    "df_q = df_data[df_data[\"questionnaire\"]]\n",
    "df_q = df_q.astype({'age':'int'})\n",
    "\n",
    "df_0_q = df_0[df_0[\"questionnaire\"]]\n",
    "df_0_q = df_0_q.astype({'age':'int'})\n",
    "df_1_q = df_1[df_1[\"questionnaire\"]]\n",
    "df_1_q = df_1_q.astype({'age':'int'})\n",
    "\n",
    "df_0_qt = df_0[df_0[\"trust_questionnaire\"]]\n",
    "df_1_qt = df_1[df_1[\"trust_questionnaire\"]]\n",
    "\n",
    "print(len(df_0_q))\n",
    "print(len(df_1_q))\n",
    "print(len(df_0_qt))\n",
    "print(len(df_1_qt))\n",
    "print(len(df_q))"
   ]
  },
  {
   "cell_type": "code",
   "execution_count": 28,
   "id": "4827b5f9",
   "metadata": {},
   "outputs": [
    {
     "name": "stdout",
     "output_type": "stream",
     "text": [
      "age \n",
      "\n",
      "All\n",
      "Mean: 26.0\n",
      "Std: 6.4077159370099865\n",
      "Min & Max: 0 42\n",
      "\n",
      "\n",
      "Group 0\n",
      "Mean: 26.114285714285714\n",
      "Std: 7.053961110393137\n",
      "Min & Max: 0 42\n",
      "\n",
      "\n",
      "Group 1\n",
      "Mean: 25.87878787878788\n",
      "Std: 5.639458257656764\n",
      "Min & Max: 17 40\n",
      "\n",
      "\n",
      "Ttest_indResult(statistic=0.6749913702432118, pvalue=0.5031348318209807)\n",
      "\n",
      "---\n",
      "\n"
     ]
    }
   ],
   "source": [
    "compare([\"age\"], df0 = df_0_q, df1 = df_1_q)"
   ]
  },
  {
   "cell_type": "code",
   "execution_count": 29,
   "id": "326cf0e5",
   "metadata": {},
   "outputs": [
    {
     "data": {
      "image/png": "[encoded data removed]",
      "text/plain": [
       "<Figure size 300x300 with 1 Axes>"
      ]
     },
     "metadata": {},
     "output_type": "display_data"
    }
   ],
   "source": [
    "make_bv_plot([\"age\"], [\"Age\"], 1, 1, [[15, 55]], w = 3, h = 3, df0 = df_0_q, df1 = df_1_q)"
   ]
  },
  {
   "cell_type": "markdown",
   "id": "e0b543be",
   "metadata": {},
   "source": [
    "### General task performance"
   ]
  },
  {
   "cell_type": "code",
   "execution_count": 30,
   "id": "852c9e7d",
   "metadata": {},
   "outputs": [
    {
     "name": "stdout",
     "output_type": "stream",
     "text": [
      "num_correct \n",
      "\n",
      "All\n",
      "Mean: 6.6\n",
      "Std: 1.7073371078963873\n",
      "Min & Max: 3 10\n",
      "\n",
      "\n",
      "Group 0\n",
      "Mean: 6.15\n",
      "Std: 1.6363068171953572\n",
      "Min & Max: 3 10\n",
      "\n",
      "\n",
      "Group 1\n",
      "Mean: 7.05\n",
      "Std: 1.6575584454250778\n",
      "Min & Max: 4 10\n",
      "\n",
      "\n",
      "Ttest_indResult(statistic=-2.5979120837137573, pvalue=0.012632376213733941)\n",
      "\n",
      "---\n",
      "\n",
      "time_total \n",
      "\n",
      "All\n",
      "Mean: 299.38607586131377\n",
      "Std: 192.3498309670249\n",
      "Min & Max: 88.39004898071289 1077.3021922111511\n",
      "\n",
      "\n",
      "Group 0\n",
      "Mean: 222.90017536708288\n",
      "Std: 94.88955398674761\n",
      "Min & Max: 88.39004898071289 440.3612184524536\n",
      "\n",
      "\n",
      "Group 1\n",
      "Mean: 380.5074854764071\n",
      "Std: 232.1727642313533\n",
      "Min & Max: 138.51108479499817 1077.3021922111511\n",
      "\n",
      "\n",
      "Ttest_indResult(statistic=-5.458511816752716, pvalue=1.9718256493837878e-06)\n",
      "\n",
      "---\n",
      "\n",
      "time_alone \n",
      "\n",
      "All\n",
      "Mean: 99.69586649712394\n",
      "Std: 96.90831810942814\n",
      "Min & Max: 14.327240943908691 490.4555776119232\n",
      "\n",
      "\n",
      "Group 0\n",
      "Mean: 58.513407135009764\n",
      "Std: 44.508454059170965\n",
      "Min & Max: 14.327240943908691 210.50182175636292\n",
      "\n",
      "\n",
      "Group 1\n",
      "Mean: 143.37423248724505\n",
      "Std: 116.37853662625054\n",
      "Min & Max: 19.947118997573853 490.4555776119232\n",
      "\n",
      "\n",
      "Ttest_indResult(statistic=-4.7106159455553405, pvalue=2.3950978463751868e-05)\n",
      "\n",
      "---\n",
      "\n",
      "time_ai \n",
      "\n",
      "All\n",
      "Mean: 199.69020936418983\n",
      "Std: 135.76472473714276\n",
      "Min & Max: 59.147520542144775 815.6596300601959\n",
      "\n",
      "\n",
      "Group 0\n",
      "Mean: 164.3867682320731\n",
      "Std: 77.68940868294344\n",
      "Min & Max: 66.59640192985535 371.4562339782715\n",
      "\n",
      "\n",
      "Group 1\n",
      "Mean: 237.1332529891621\n",
      "Std: 169.87031788195074\n",
      "Min & Max: 59.147520542144775 815.6596300601959\n",
      "\n",
      "\n",
      "Ttest_indResult(statistic=-3.918266328652035, pvalue=0.00030051779906003736)\n",
      "\n",
      "---\n",
      "\n"
     ]
    }
   ],
   "source": [
    "compare([\"num_correct\"]) \n",
    "compare([\"time_total\", \"time_alone\", \"time_ai\"], df0 = df_0_q, df1 = df_1_q)"
   ]
  },
  {
   "cell_type": "code",
   "execution_count": 31,
   "id": "d7ca1332",
   "metadata": {},
   "outputs": [
    {
     "data": {
      "image/png": "[encoded data removed]",
      "text/plain": [
       "<Figure size 300x300 with 1 Axes>"
      ]
     },
     "metadata": {},
     "output_type": "display_data"
    }
   ],
   "source": [
    "make_bv_plot([\"num_correct\"], [\"Correct Guesses (before AI)\"], 1, 1, [[-1, 11]], w = 3, h = 3)"
   ]
  },
  {
   "cell_type": "code",
   "execution_count": 32,
   "id": "0362f179",
   "metadata": {},
   "outputs": [
    {
     "data": {
      "image/png": "[encoded data removed]",
      "text/plain": [
       "<Figure size 600x300 with 3 Axes>"
      ]
     },
     "metadata": {},
     "output_type": "display_data"
    }
   ],
   "source": [
    "make_bv_plot([\"time_total\", \"time_alone\", \"time_ai\"], [\"Total Time\", \"Before AI\", \"AI Review\"], 1, 3, [[0, 900]], w = 6, h = 3, df0 = df_0_q, df1 = df_1_q)"
   ]
  },
  {
   "cell_type": "markdown",
   "id": "7bad0a04",
   "metadata": {},
   "source": [
    "## Misleading AI"
   ]
  },
  {
   "cell_type": "code",
   "execution_count": 33,
   "id": "1db67940",
   "metadata": {},
   "outputs": [
    {
     "data": {
      "text/plain": [
       "Index(['group', 'file', 'filenum', 'questionnaire', 'trust_questionnaire',\n",
       "       'time_alone', 'time_ai', 'time_total', 'AI_successful', 'euro_watcher',\n",
       "       'song_knowledge', 'song_knowledge_which', 'AI_knowledge',\n",
       "       'AI_knowledge_what', 'age', 'gender', 'rel_1', 'rel_2', 'rel_5',\n",
       "       'com_1', 'com_2', 'com_3', 'com_5', 'fai_1', 'fai_2', 'fai_3', 'fai_4',\n",
       "       'fai_5', 'rel', 'com', 'fai', 'trust', 'AI_answer_basis',\n",
       "       'AI_plausibility', 'num_correct', 'num_correct_ai', 'num_mislead',\n",
       "       'num_mislead_switch', 'num_incorrect', 'num_help', 'num_help_switch',\n",
       "       'num_total_disagree', 'num_total_switch', 'ratio_switch', 'ratio_help',\n",
       "       'ratio_mislead'],\n",
       "      dtype='object')"
      ]
     },
     "execution_count": 33,
     "metadata": {},
     "output_type": "execute_result"
    }
   ],
   "source": [
    "df_1.columns"
   ]
  },
  {
   "cell_type": "code",
   "execution_count": 34,
   "id": "112bb13d",
   "metadata": {
    "scrolled": false
   },
   "outputs": [
    {
     "name": "stdout",
     "output_type": "stream",
     "text": [
      "ratio_switch \n",
      "\n",
      "All\n",
      "Mean: 0.081875\n",
      "Std: 0.17857837040078509\n",
      "Min & Max: 0.0 0.75\n",
      "\n",
      "\n",
      "Group 0\n",
      "Mean: 0.08499999999999999\n",
      "Std: 0.15898113095584654\n",
      "Min & Max: 0.0 0.5\n",
      "\n",
      "\n",
      "Group 1\n",
      "Mean: 0.07875000000000001\n",
      "Std: 0.19617833086250894\n",
      "Min & Max: 0.0 0.75\n",
      "\n",
      "\n",
      "Ttest_indResult(statistic=0.43827297200036447, pvalue=0.6632852391085529)\n",
      "\n",
      "---\n",
      "\n",
      "ratio_help \n",
      "\n",
      "All\n",
      "Mean: 0.11342592592592592\n",
      "Std: nan\n",
      "Min & Max: 0.0 1.0\n",
      "\n",
      "\n",
      "Group 0\n",
      "Mean: 0.1126126126126126\n",
      "Std: 0.2848898792944486\n",
      "Min & Max: 0.0 1.0\n",
      "\n",
      "\n",
      "Group 1\n",
      "Mean: 0.11428571428571428\n",
      "Std: 0.31815796359028703\n",
      "Min & Max: 0.0 1.0\n",
      "\n",
      "\n",
      "Ttest_indResult(statistic=0.5815411401035228, pvalue=0.5637777206121948)\n",
      "\n",
      "---\n",
      "\n",
      "ratio_mislead \n",
      "\n",
      "All\n",
      "Mean: 0.07916666666666666\n",
      "Std: 0.1767275838370708\n",
      "Min & Max: 0.0 0.75\n",
      "\n",
      "\n",
      "Group 0\n",
      "Mean: 0.08958333333333332\n",
      "Std: 0.17218721642444892\n",
      "Min & Max: 0.0 0.5\n",
      "\n",
      "\n",
      "Group 1\n",
      "Mean: 0.06875\n",
      "Std: 0.18055422008053112\n",
      "Min & Max: 0.0 0.75\n",
      "\n",
      "\n",
      "Ttest_indResult(statistic=0.26570728844863, pvalue=0.7916782123877315)\n",
      "\n",
      "---\n",
      "\n"
     ]
    }
   ],
   "source": [
    "compare([\"ratio_switch\", \"ratio_help\", \"ratio_mislead\"])"
   ]
  },
  {
   "cell_type": "code",
   "execution_count": 35,
   "id": "f13ed131",
   "metadata": {},
   "outputs": [
    {
     "data": {
      "image/png": "[encoded data removed]",
      "text/plain": [
       "<Figure size 600x300 with 3 Axes>"
      ]
     },
     "metadata": {},
     "output_type": "display_data"
    }
   ],
   "source": [
    "make_bv_plot([\"ratio_switch\", \"ratio_help\", \"ratio_mislead\"], [\"Switched b/c AI\", \"Right Decision\", \"Wrong Decision\"], 1, 3, [[0, 1]], w = 6, h = 3)"
   ]
  },
  {
   "cell_type": "code",
   "execution_count": 36,
   "id": "f7c7323c",
   "metadata": {},
   "outputs": [
    {
     "name": "stdout",
     "output_type": "stream",
     "text": [
      "40 40\n",
      "Number of people per group who switched (at all)\n",
      "10\n",
      "7\n",
      "Number of people per group who switched (mislead)\n",
      "9\n",
      "6\n",
      "Number of people per group who switched (help)\n",
      "6\n",
      "4\n"
     ]
    }
   ],
   "source": [
    "print(len(df_0), len(df_1))\n",
    "\n",
    "print(\"Number of people per group who switched (at all)\")\n",
    "print(len(df_0[df_0[\"num_total_switch\"] != 0]))\n",
    "print(len(df_1[df_1[\"num_total_switch\"] != 0]))\n",
    "print(\"Number of people per group who switched (mislead)\")\n",
    "print(len(df_0[df_0[\"num_mislead_switch\"] != 0]))\n",
    "print(len(df_1[df_1[\"num_mislead_switch\"] != 0]))\n",
    "print(\"Number of people per group who switched (help)\")\n",
    "print(len(df_0[df_0[\"num_help_switch\"] != 0]))\n",
    "print(len(df_1[df_1[\"num_help_switch\"] != 0]))"
   ]
  },
  {
   "cell_type": "code",
   "execution_count": 37,
   "id": "eb958532",
   "metadata": {},
   "outputs": [
    {
     "data": {
      "text/html": [
       "<div>\n",
       "<style scoped>\n",
       "    .dataframe tbody tr th:only-of-type {\n",
       "        vertical-align: middle;\n",
       "    }\n",
       "\n",
       "    .dataframe tbody tr th {\n",
       "        vertical-align: top;\n",
       "    }\n",
       "\n",
       "    .dataframe thead th {\n",
       "        text-align: right;\n",
       "    }\n",
       "</style>\n",
       "<table border=\"1\" class=\"dataframe\">\n",
       "  <thead>\n",
       "    <tr style=\"text-align: right;\">\n",
       "      <th></th>\n",
       "      <th>num_correct</th>\n",
       "      <th>num_correct_ai</th>\n",
       "    </tr>\n",
       "  </thead>\n",
       "  <tbody>\n",
       "    <tr>\n",
       "      <th>0</th>\n",
       "      <td>6</td>\n",
       "      <td>6</td>\n",
       "    </tr>\n",
       "    <tr>\n",
       "      <th>1</th>\n",
       "      <td>4</td>\n",
       "      <td>4</td>\n",
       "    </tr>\n",
       "    <tr>\n",
       "      <th>2</th>\n",
       "      <td>6</td>\n",
       "      <td>6</td>\n",
       "    </tr>\n",
       "    <tr>\n",
       "      <th>3</th>\n",
       "      <td>3</td>\n",
       "      <td>3</td>\n",
       "    </tr>\n",
       "    <tr>\n",
       "      <th>4</th>\n",
       "      <td>9</td>\n",
       "      <td>9</td>\n",
       "    </tr>\n",
       "    <tr>\n",
       "      <th>5</th>\n",
       "      <td>4</td>\n",
       "      <td>3</td>\n",
       "    </tr>\n",
       "    <tr>\n",
       "      <th>6</th>\n",
       "      <td>6</td>\n",
       "      <td>8</td>\n",
       "    </tr>\n",
       "    <tr>\n",
       "      <th>7</th>\n",
       "      <td>6</td>\n",
       "      <td>6</td>\n",
       "    </tr>\n",
       "    <tr>\n",
       "      <th>8</th>\n",
       "      <td>7</td>\n",
       "      <td>7</td>\n",
       "    </tr>\n",
       "    <tr>\n",
       "      <th>9</th>\n",
       "      <td>4</td>\n",
       "      <td>3</td>\n",
       "    </tr>\n",
       "    <tr>\n",
       "      <th>10</th>\n",
       "      <td>7</td>\n",
       "      <td>7</td>\n",
       "    </tr>\n",
       "    <tr>\n",
       "      <th>11</th>\n",
       "      <td>7</td>\n",
       "      <td>7</td>\n",
       "    </tr>\n",
       "    <tr>\n",
       "      <th>12</th>\n",
       "      <td>6</td>\n",
       "      <td>5</td>\n",
       "    </tr>\n",
       "    <tr>\n",
       "      <th>13</th>\n",
       "      <td>7</td>\n",
       "      <td>7</td>\n",
       "    </tr>\n",
       "    <tr>\n",
       "      <th>14</th>\n",
       "      <td>8</td>\n",
       "      <td>7</td>\n",
       "    </tr>\n",
       "    <tr>\n",
       "      <th>15</th>\n",
       "      <td>10</td>\n",
       "      <td>10</td>\n",
       "    </tr>\n",
       "    <tr>\n",
       "      <th>16</th>\n",
       "      <td>4</td>\n",
       "      <td>4</td>\n",
       "    </tr>\n",
       "    <tr>\n",
       "      <th>17</th>\n",
       "      <td>7</td>\n",
       "      <td>7</td>\n",
       "    </tr>\n",
       "    <tr>\n",
       "      <th>18</th>\n",
       "      <td>6</td>\n",
       "      <td>6</td>\n",
       "    </tr>\n",
       "    <tr>\n",
       "      <th>19</th>\n",
       "      <td>6</td>\n",
       "      <td>6</td>\n",
       "    </tr>\n",
       "    <tr>\n",
       "      <th>20</th>\n",
       "      <td>7</td>\n",
       "      <td>7</td>\n",
       "    </tr>\n",
       "    <tr>\n",
       "      <th>21</th>\n",
       "      <td>7</td>\n",
       "      <td>7</td>\n",
       "    </tr>\n",
       "    <tr>\n",
       "      <th>22</th>\n",
       "      <td>7</td>\n",
       "      <td>7</td>\n",
       "    </tr>\n",
       "    <tr>\n",
       "      <th>23</th>\n",
       "      <td>8</td>\n",
       "      <td>8</td>\n",
       "    </tr>\n",
       "    <tr>\n",
       "      <th>24</th>\n",
       "      <td>5</td>\n",
       "      <td>5</td>\n",
       "    </tr>\n",
       "    <tr>\n",
       "      <th>25</th>\n",
       "      <td>8</td>\n",
       "      <td>8</td>\n",
       "    </tr>\n",
       "    <tr>\n",
       "      <th>26</th>\n",
       "      <td>7</td>\n",
       "      <td>7</td>\n",
       "    </tr>\n",
       "    <tr>\n",
       "      <th>27</th>\n",
       "      <td>8</td>\n",
       "      <td>8</td>\n",
       "    </tr>\n",
       "    <tr>\n",
       "      <th>28</th>\n",
       "      <td>4</td>\n",
       "      <td>4</td>\n",
       "    </tr>\n",
       "    <tr>\n",
       "      <th>29</th>\n",
       "      <td>4</td>\n",
       "      <td>4</td>\n",
       "    </tr>\n",
       "    <tr>\n",
       "      <th>30</th>\n",
       "      <td>7</td>\n",
       "      <td>7</td>\n",
       "    </tr>\n",
       "    <tr>\n",
       "      <th>31</th>\n",
       "      <td>4</td>\n",
       "      <td>4</td>\n",
       "    </tr>\n",
       "    <tr>\n",
       "      <th>32</th>\n",
       "      <td>4</td>\n",
       "      <td>4</td>\n",
       "    </tr>\n",
       "    <tr>\n",
       "      <th>33</th>\n",
       "      <td>5</td>\n",
       "      <td>5</td>\n",
       "    </tr>\n",
       "    <tr>\n",
       "      <th>34</th>\n",
       "      <td>5</td>\n",
       "      <td>5</td>\n",
       "    </tr>\n",
       "    <tr>\n",
       "      <th>35</th>\n",
       "      <td>9</td>\n",
       "      <td>9</td>\n",
       "    </tr>\n",
       "    <tr>\n",
       "      <th>36</th>\n",
       "      <td>5</td>\n",
       "      <td>5</td>\n",
       "    </tr>\n",
       "    <tr>\n",
       "      <th>37</th>\n",
       "      <td>5</td>\n",
       "      <td>5</td>\n",
       "    </tr>\n",
       "    <tr>\n",
       "      <th>38</th>\n",
       "      <td>7</td>\n",
       "      <td>7</td>\n",
       "    </tr>\n",
       "    <tr>\n",
       "      <th>39</th>\n",
       "      <td>7</td>\n",
       "      <td>7</td>\n",
       "    </tr>\n",
       "  </tbody>\n",
       "</table>\n",
       "</div>"
      ],
      "text/plain": [
       "    num_correct  num_correct_ai\n",
       "0             6               6\n",
       "1             4               4\n",
       "2             6               6\n",
       "3             3               3\n",
       "4             9               9\n",
       "5             4               3\n",
       "6             6               8\n",
       "7             6               6\n",
       "8             7               7\n",
       "9             4               3\n",
       "10            7               7\n",
       "11            7               7\n",
       "12            6               5\n",
       "13            7               7\n",
       "14            8               7\n",
       "15           10              10\n",
       "16            4               4\n",
       "17            7               7\n",
       "18            6               6\n",
       "19            6               6\n",
       "20            7               7\n",
       "21            7               7\n",
       "22            7               7\n",
       "23            8               8\n",
       "24            5               5\n",
       "25            8               8\n",
       "26            7               7\n",
       "27            8               8\n",
       "28            4               4\n",
       "29            4               4\n",
       "30            7               7\n",
       "31            4               4\n",
       "32            4               4\n",
       "33            5               5\n",
       "34            5               5\n",
       "35            9               9\n",
       "36            5               5\n",
       "37            5               5\n",
       "38            7               7\n",
       "39            7               7"
      ]
     },
     "execution_count": 37,
     "metadata": {},
     "output_type": "execute_result"
    }
   ],
   "source": [
    "df_0[[\"num_correct\", \"num_correct_ai\"]]"
   ]
  },
  {
   "cell_type": "code",
   "execution_count": 38,
   "id": "a32e719b",
   "metadata": {},
   "outputs": [
    {
     "data": {
      "text/html": [
       "<div>\n",
       "<style scoped>\n",
       "    .dataframe tbody tr th:only-of-type {\n",
       "        vertical-align: middle;\n",
       "    }\n",
       "\n",
       "    .dataframe tbody tr th {\n",
       "        vertical-align: top;\n",
       "    }\n",
       "\n",
       "    .dataframe thead th {\n",
       "        text-align: right;\n",
       "    }\n",
       "</style>\n",
       "<table border=\"1\" class=\"dataframe\">\n",
       "  <thead>\n",
       "    <tr style=\"text-align: right;\">\n",
       "      <th></th>\n",
       "      <th>num_correct</th>\n",
       "      <th>num_correct_ai</th>\n",
       "    </tr>\n",
       "  </thead>\n",
       "  <tbody>\n",
       "    <tr>\n",
       "      <th>40</th>\n",
       "      <td>7</td>\n",
       "      <td>7</td>\n",
       "    </tr>\n",
       "    <tr>\n",
       "      <th>41</th>\n",
       "      <td>7</td>\n",
       "      <td>7</td>\n",
       "    </tr>\n",
       "    <tr>\n",
       "      <th>42</th>\n",
       "      <td>5</td>\n",
       "      <td>5</td>\n",
       "    </tr>\n",
       "    <tr>\n",
       "      <th>43</th>\n",
       "      <td>10</td>\n",
       "      <td>10</td>\n",
       "    </tr>\n",
       "    <tr>\n",
       "      <th>44</th>\n",
       "      <td>8</td>\n",
       "      <td>8</td>\n",
       "    </tr>\n",
       "    <tr>\n",
       "      <th>45</th>\n",
       "      <td>5</td>\n",
       "      <td>6</td>\n",
       "    </tr>\n",
       "    <tr>\n",
       "      <th>46</th>\n",
       "      <td>8</td>\n",
       "      <td>8</td>\n",
       "    </tr>\n",
       "    <tr>\n",
       "      <th>47</th>\n",
       "      <td>4</td>\n",
       "      <td>4</td>\n",
       "    </tr>\n",
       "    <tr>\n",
       "      <th>48</th>\n",
       "      <td>5</td>\n",
       "      <td>5</td>\n",
       "    </tr>\n",
       "    <tr>\n",
       "      <th>49</th>\n",
       "      <td>6</td>\n",
       "      <td>5</td>\n",
       "    </tr>\n",
       "    <tr>\n",
       "      <th>50</th>\n",
       "      <td>6</td>\n",
       "      <td>6</td>\n",
       "    </tr>\n",
       "    <tr>\n",
       "      <th>51</th>\n",
       "      <td>10</td>\n",
       "      <td>10</td>\n",
       "    </tr>\n",
       "    <tr>\n",
       "      <th>52</th>\n",
       "      <td>8</td>\n",
       "      <td>8</td>\n",
       "    </tr>\n",
       "    <tr>\n",
       "      <th>53</th>\n",
       "      <td>8</td>\n",
       "      <td>8</td>\n",
       "    </tr>\n",
       "    <tr>\n",
       "      <th>54</th>\n",
       "      <td>7</td>\n",
       "      <td>7</td>\n",
       "    </tr>\n",
       "    <tr>\n",
       "      <th>55</th>\n",
       "      <td>10</td>\n",
       "      <td>10</td>\n",
       "    </tr>\n",
       "    <tr>\n",
       "      <th>56</th>\n",
       "      <td>10</td>\n",
       "      <td>10</td>\n",
       "    </tr>\n",
       "    <tr>\n",
       "      <th>57</th>\n",
       "      <td>8</td>\n",
       "      <td>8</td>\n",
       "    </tr>\n",
       "    <tr>\n",
       "      <th>58</th>\n",
       "      <td>7</td>\n",
       "      <td>7</td>\n",
       "    </tr>\n",
       "    <tr>\n",
       "      <th>59</th>\n",
       "      <td>10</td>\n",
       "      <td>10</td>\n",
       "    </tr>\n",
       "    <tr>\n",
       "      <th>60</th>\n",
       "      <td>4</td>\n",
       "      <td>4</td>\n",
       "    </tr>\n",
       "    <tr>\n",
       "      <th>61</th>\n",
       "      <td>5</td>\n",
       "      <td>5</td>\n",
       "    </tr>\n",
       "    <tr>\n",
       "      <th>62</th>\n",
       "      <td>8</td>\n",
       "      <td>8</td>\n",
       "    </tr>\n",
       "    <tr>\n",
       "      <th>63</th>\n",
       "      <td>6</td>\n",
       "      <td>6</td>\n",
       "    </tr>\n",
       "    <tr>\n",
       "      <th>64</th>\n",
       "      <td>6</td>\n",
       "      <td>6</td>\n",
       "    </tr>\n",
       "    <tr>\n",
       "      <th>65</th>\n",
       "      <td>8</td>\n",
       "      <td>7</td>\n",
       "    </tr>\n",
       "    <tr>\n",
       "      <th>66</th>\n",
       "      <td>8</td>\n",
       "      <td>8</td>\n",
       "    </tr>\n",
       "    <tr>\n",
       "      <th>67</th>\n",
       "      <td>7</td>\n",
       "      <td>6</td>\n",
       "    </tr>\n",
       "    <tr>\n",
       "      <th>68</th>\n",
       "      <td>6</td>\n",
       "      <td>6</td>\n",
       "    </tr>\n",
       "    <tr>\n",
       "      <th>69</th>\n",
       "      <td>7</td>\n",
       "      <td>8</td>\n",
       "    </tr>\n",
       "    <tr>\n",
       "      <th>70</th>\n",
       "      <td>7</td>\n",
       "      <td>7</td>\n",
       "    </tr>\n",
       "    <tr>\n",
       "      <th>71</th>\n",
       "      <td>8</td>\n",
       "      <td>5</td>\n",
       "    </tr>\n",
       "    <tr>\n",
       "      <th>72</th>\n",
       "      <td>8</td>\n",
       "      <td>8</td>\n",
       "    </tr>\n",
       "    <tr>\n",
       "      <th>73</th>\n",
       "      <td>6</td>\n",
       "      <td>6</td>\n",
       "    </tr>\n",
       "    <tr>\n",
       "      <th>74</th>\n",
       "      <td>7</td>\n",
       "      <td>7</td>\n",
       "    </tr>\n",
       "    <tr>\n",
       "      <th>75</th>\n",
       "      <td>8</td>\n",
       "      <td>8</td>\n",
       "    </tr>\n",
       "    <tr>\n",
       "      <th>76</th>\n",
       "      <td>8</td>\n",
       "      <td>8</td>\n",
       "    </tr>\n",
       "    <tr>\n",
       "      <th>77</th>\n",
       "      <td>4</td>\n",
       "      <td>4</td>\n",
       "    </tr>\n",
       "    <tr>\n",
       "      <th>78</th>\n",
       "      <td>7</td>\n",
       "      <td>7</td>\n",
       "    </tr>\n",
       "    <tr>\n",
       "      <th>79</th>\n",
       "      <td>5</td>\n",
       "      <td>5</td>\n",
       "    </tr>\n",
       "  </tbody>\n",
       "</table>\n",
       "</div>"
      ],
      "text/plain": [
       "    num_correct  num_correct_ai\n",
       "40            7               7\n",
       "41            7               7\n",
       "42            5               5\n",
       "43           10              10\n",
       "44            8               8\n",
       "45            5               6\n",
       "46            8               8\n",
       "47            4               4\n",
       "48            5               5\n",
       "49            6               5\n",
       "50            6               6\n",
       "51           10              10\n",
       "52            8               8\n",
       "53            8               8\n",
       "54            7               7\n",
       "55           10              10\n",
       "56           10              10\n",
       "57            8               8\n",
       "58            7               7\n",
       "59           10              10\n",
       "60            4               4\n",
       "61            5               5\n",
       "62            8               8\n",
       "63            6               6\n",
       "64            6               6\n",
       "65            8               7\n",
       "66            8               8\n",
       "67            7               6\n",
       "68            6               6\n",
       "69            7               8\n",
       "70            7               7\n",
       "71            8               5\n",
       "72            8               8\n",
       "73            6               6\n",
       "74            7               7\n",
       "75            8               8\n",
       "76            8               8\n",
       "77            4               4\n",
       "78            7               7\n",
       "79            5               5"
      ]
     },
     "execution_count": 38,
     "metadata": {},
     "output_type": "execute_result"
    }
   ],
   "source": [
    "df_1[[\"num_correct\", \"num_correct_ai\"]]"
   ]
  },
  {
   "cell_type": "code",
   "execution_count": 39,
   "id": "29989d1d",
   "metadata": {},
   "outputs": [
    {
     "name": "stdout",
     "output_type": "stream",
     "text": [
      "num_correct \n",
      "\n",
      "All\n",
      "Mean: 6.6\n",
      "Std: 1.7073371078963873\n",
      "Min & Max: 3 10\n",
      "\n",
      "\n",
      "Group 0\n",
      "Mean: 6.15\n",
      "Std: 1.6363068171953572\n",
      "Min & Max: 3 10\n",
      "\n",
      "\n",
      "Group 1\n",
      "Mean: 7.05\n",
      "Std: 1.6575584454250778\n",
      "Min & Max: 4 10\n",
      "\n",
      "\n",
      "Ttest_indResult(statistic=-2.5979120837137573, pvalue=0.012632376213733941)\n",
      "\n",
      "---\n",
      "\n",
      "num_correct_ai \n",
      "\n",
      "All\n",
      "Mean: 6.525\n",
      "Std: 1.7605041891458255\n",
      "Min & Max: 3 10\n",
      "\n",
      "\n",
      "Group 0\n",
      "Mean: 6.1\n",
      "Std: 1.729161646579058\n",
      "Min & Max: 3 10\n",
      "\n",
      "\n",
      "Group 1\n",
      "Mean: 6.95\n",
      "Std: 1.6874537030686207\n",
      "Min & Max: 4 10\n",
      "\n",
      "\n",
      "Ttest_indResult(statistic=-2.16241354107702, pvalue=0.03593981096776185)\n",
      "\n",
      "---\n",
      "\n"
     ]
    },
    {
     "data": {
      "image/png": "[encoded data removed]",
      "text/plain": [
       "<Figure size 600x300 with 2 Axes>"
      ]
     },
     "metadata": {},
     "output_type": "display_data"
    }
   ],
   "source": [
    "compare([\"num_correct\", \"num_correct_ai\"]) \n",
    "make_bv_plot([\"num_correct\", \"num_correct_ai\"], [\"Correct Guesses (before AI)\", \"Correct Guesses (after AI)\"], 1, 2, [[-1, 11]], w = 6, h = 3)"
   ]
  },
  {
   "cell_type": "markdown",
   "id": "8c4f8c9d",
   "metadata": {},
   "source": [
    "## What do people think?"
   ]
  },
  {
   "cell_type": "code",
   "execution_count": 40,
   "id": "57146e5f",
   "metadata": {},
   "outputs": [
    {
     "data": {
      "text/plain": [
       "Index(['group', 'file', 'filenum', 'questionnaire', 'trust_questionnaire',\n",
       "       'time_alone', 'time_ai', 'time_total', 'AI_successful', 'euro_watcher',\n",
       "       'song_knowledge', 'song_knowledge_which', 'AI_knowledge',\n",
       "       'AI_knowledge_what', 'age', 'gender', 'rel_1', 'rel_2', 'rel_5',\n",
       "       'com_1', 'com_2', 'com_3', 'com_5', 'fai_1', 'fai_2', 'fai_3', 'fai_4',\n",
       "       'fai_5', 'rel', 'com', 'fai', 'trust', 'AI_answer_basis',\n",
       "       'AI_plausibility', 'num_correct', 'num_correct_ai', 'num_mislead',\n",
       "       'num_mislead_switch', 'num_incorrect', 'num_help', 'num_help_switch',\n",
       "       'num_total_disagree', 'num_total_switch', 'ratio_switch', 'ratio_help',\n",
       "       'ratio_mislead'],\n",
       "      dtype='object')"
      ]
     },
     "execution_count": 40,
     "metadata": {},
     "output_type": "execute_result"
    }
   ],
   "source": [
    "df_data.columns"
   ]
  },
  {
   "cell_type": "code",
   "execution_count": 41,
   "id": "239a5abd",
   "metadata": {},
   "outputs": [
    {
     "name": "stdout",
     "output_type": "stream",
     "text": [
      "AI_successful \n",
      "\n",
      "All\n",
      "Mean: -0.16176470588235295\n",
      "Std: 0.9332154110708886\n",
      "Min & Max: -2.0 1.0\n",
      "\n",
      "\n",
      "Group 0\n",
      "Mean: -0.05714285714285714\n",
      "Std: 0.8261047025600547\n",
      "Min & Max: -1.0 1.0\n",
      "\n",
      "\n",
      "Group 1\n",
      "Mean: -0.2727272727272727\n",
      "Std: 1.0231480615838868\n",
      "Min & Max: -2.0 1.0\n",
      "\n",
      "\n",
      "Ttest_indResult(statistic=-0.23020688695860483, pvalue=0.8189743280640902)\n",
      "\n",
      "---\n",
      "\n",
      "euro_watcher \n",
      "\n",
      "All\n",
      "Mean: -0.10294117647058823\n",
      "Std: 1.3947349092670003\n",
      "Min & Max: -2.0 2.0\n",
      "\n",
      "\n",
      "Group 0\n",
      "Mean: -0.05714285714285714\n",
      "Std: 1.3926922979375935\n",
      "Min & Max: -2.0 2.0\n",
      "\n",
      "\n",
      "Group 1\n",
      "Mean: -0.15151515151515152\n",
      "Std: 1.3952562949359195\n",
      "Min & Max: -2.0 2.0\n",
      "\n",
      "\n",
      "Ttest_indResult(statistic=-0.12426862218536501, pvalue=0.9016560389992925)\n",
      "\n",
      "---\n",
      "\n"
     ]
    }
   ],
   "source": [
    "compare([\"AI_successful\", \"euro_watcher\"], df0 = df_0_q, df1 = df_1_q)"
   ]
  },
  {
   "cell_type": "code",
   "execution_count": 42,
   "id": "637e59c4",
   "metadata": {},
   "outputs": [
    {
     "name": "stdout",
     "output_type": "stream",
     "text": [
      "{'Group 0': [0.0, 0.37142857142857144, 0.3142857142857143, 0.3142857142857143, 0.0], 'Group 1': [0.09090909090909091, 0.42424242424242425, 0.15151515151515152, 0.3333333333333333, 0.0]}\n",
      "['VERY UNLIKELY', 'UNLIKELY', 'NEUTRAL', 'LIKELY', 'VERY LIKELY']\n",
      "{'Group 0': [0.14285714285714285, 0.34285714285714286, 0.17142857142857143, 0.11428571428571428, 0.22857142857142856], 'Group 1': [0.18181818181818182, 0.30303030303030304, 0.21212121212121213, 0.09090909090909091, 0.21212121212121213]}\n",
      "['NEVER', 'RARELY', 'SOMETIMES', 'MOST YEARS', 'EVERY YEAR']\n"
     ]
    }
   ],
   "source": [
    "def count_likert(key):\n",
    "    results = {}\n",
    "    answers_0 = Counter(df_0_q[key])\n",
    "    counts_0 = []\n",
    "    answers_1 = Counter(df_1_q[key])\n",
    "    counts_1 = []\n",
    "    for i in range(-2,3):\n",
    "        if i in answers_0:\n",
    "            counts_0.append(answers_0[i])\n",
    "        else:\n",
    "            counts_0.append(0)\n",
    "        if i in answers_1:\n",
    "            counts_1.append(answers_1[i])\n",
    "        else:\n",
    "            counts_1.append(0)\n",
    "    percs_0 = [c/sum(counts_0) for c in counts_0]\n",
    "    percs_1 = [c/sum(counts_1) for c in counts_1]\n",
    "    results[\"Group 0\"] = percs_0\n",
    "    results[\"Group 1\"] = percs_1\n",
    "    return results\n",
    "    \n",
    "def count_likert_trust(key):\n",
    "    results = {}\n",
    "    answers_0 = Counter(df_0_qt[key])\n",
    "    counts_0 = []\n",
    "    answers_1 = Counter(df_1_qt[key])\n",
    "    counts_1 = []\n",
    "    for i in range(-2,3):\n",
    "        if i in answers_0:\n",
    "            counts_0.append(answers_0[i])\n",
    "        else:\n",
    "            counts_0.append(0)\n",
    "        if i in answers_1:\n",
    "            counts_1.append(answers_1[i])\n",
    "        else:\n",
    "            counts_1.append(0)\n",
    "    percs_0 = [c/sum(counts_0) for c in counts_0]\n",
    "    percs_1 = [c/sum(counts_1) for c in counts_1]\n",
    "    results[\"Group 0\"] = percs_0\n",
    "    results[\"Group 1\"] = percs_1\n",
    "    return results\n",
    "    \n",
    "results_ai = count_likert(\"AI_successful\")\n",
    "category_names_ai_reverse = [\"VERY LIKELY\", \"LIKELY\", \"NEUTRAL\", \"UNLIKELY\", \"VERY UNLIKELY\"]\n",
    "category_names_ai = [category_names_ai_reverse[len(category_names_ai_reverse)-(i+1)] for i in range(len(category_names_ai_reverse))]\n",
    "print(results_ai)\n",
    "print(category_names_ai)\n",
    "\n",
    "results_euro = count_likert(\"euro_watcher\")\n",
    "category_names_euro_reverse = [\"EVERY YEAR\", \"MOST YEARS\", \"SOMETIMES\", \"RARELY\", \"NEVER\"]\n",
    "category_names_euro = [category_names_euro_reverse[len(category_names_euro_reverse)-(i+1)] for i in range(len(category_names_euro_reverse))]\n",
    "print(results_euro)\n",
    "print(category_names_euro)"
   ]
  },
  {
   "cell_type": "code",
   "execution_count": null,
   "id": "7ccf4e92",
   "metadata": {},
   "outputs": [],
   "source": []
  },
  {
   "cell_type": "code",
   "execution_count": 43,
   "id": "ef174a94",
   "metadata": {},
   "outputs": [
    {
     "name": "stdout",
     "output_type": "stream",
     "text": [
      "[0.         0.09090909] [0. 0.]\n",
      "[0.37142857 0.42424242] [0.         0.09090909]\n",
      "[0.31428571 0.15151515] [0.37142857 0.51515152]\n",
      "[0.31428571 0.33333333] [0.68571429 0.66666667]\n",
      "[0. 0.] [1. 1.]\n"
     ]
    },
    {
     "data": {
      "image/png": "[encoded data removed]",
      "text/plain": [
       "<Figure size 600x80 with 1 Axes>"
      ]
     },
     "metadata": {},
     "output_type": "display_data"
    }
   ],
   "source": [
    "survey(results_ai, category_names_ai,\"ai_success\", \"Do you think our AI will successfully predict \\nthe winner of the Eurovision Song Contest 2023?\", height = 0.8)"
   ]
  },
  {
   "cell_type": "code",
   "execution_count": 44,
   "id": "33b4f66b",
   "metadata": {},
   "outputs": [
    {
     "name": "stdout",
     "output_type": "stream",
     "text": [
      "[0.14285714 0.18181818] [0. 0.]\n",
      "[0.34285714 0.3030303 ] [0.14285714 0.18181818]\n",
      "[0.17142857 0.21212121] [0.48571429 0.48484848]\n",
      "[0.11428571 0.09090909] [0.65714286 0.6969697 ]\n",
      "[0.22857143 0.21212121] [0.77142857 0.78787879]\n"
     ]
    },
    {
     "data": {
      "image/png": "[encoded data removed]",
      "text/plain": [
       "<Figure size 600x80 with 1 Axes>"
      ]
     },
     "metadata": {},
     "output_type": "display_data"
    }
   ],
   "source": [
    "survey(results_euro, category_names_euro,\"euro_watcher\", \"Do you watch/follow the Eurovision Song Contest?\", height = 0.8)"
   ]
  },
  {
   "cell_type": "code",
   "execution_count": 45,
   "id": "c2afadd9",
   "metadata": {},
   "outputs": [
    {
     "name": "stdout",
     "output_type": "stream",
     "text": [
      "Counter({'YES': 31, 'NO': 4})\n",
      "Counter({'YES': 24, 'NO': 9})\n",
      "Counter({'NO': 21, 'YES': 14})\n",
      "Counter({'NO': 22, 'YES': 11})\n",
      "{'Group 0': [0.11428571428571428, 0.8857142857142857], 'Group 1': [0.2727272727272727, 0.7272727272727273]}\n",
      "{'Group 0': [0.6, 0.4], 'Group 1': [0.6666666666666666, 0.3333333333333333]}\n"
     ]
    },
    {
     "data": {
      "text/plain": [
       "Counter({'NO': 21, 'YES': 14})"
      ]
     },
     "execution_count": 45,
     "metadata": {},
     "output_type": "execute_result"
    }
   ],
   "source": [
    "ai_k_0 = Counter(df_0_q[\"AI_knowledge\"])\n",
    "print(ai_k_0)\n",
    "ai_k_0 = [ai_k_0[\"YES\"], ai_k_0['NO']]\n",
    "ai_k_0 = [ai_k_0[len(ai_k_0)-(i+1)] for i in range(len(ai_k_0))]\n",
    "ai_k_1 = Counter(df_1_q[\"AI_knowledge\"])\n",
    "print(ai_k_1)\n",
    "ai_k_1 = [ai_k_1[\"YES\"], ai_k_1['NO']]\n",
    "ai_k_1 = [ai_k_1[len(ai_k_1)-(i+1)] for i in range(len(ai_k_1))]\n",
    "\n",
    "so_k_0 = Counter(df_0_q[\"song_knowledge\"])\n",
    "print(so_k_0)\n",
    "so_k_0 = [so_k_0[\"YES\"], so_k_0['NO']]\n",
    "so_k_0 = [so_k_0[len(so_k_0)-(i+1)] for i in range(len(so_k_0))]\n",
    "so_k_1 = Counter(df_1_q[\"song_knowledge\"])\n",
    "print(so_k_1)\n",
    "so_k_1 = [so_k_1[\"YES\"], so_k_1['NO']]\n",
    "so_k_1 = [so_k_1[len(so_k_1)-(i+1)] for i in range(len(so_k_1))]\n",
    "\n",
    "results_AI_k = {\"Group 0\":[i/sum(ai_k_0) for i in ai_k_0], \"Group 1\":[i/sum(ai_k_1) for i in ai_k_1]}\n",
    "results_song_k = {\"Group 0\":[i/sum(so_k_0) for i in so_k_0], \"Group 1\":[i/sum(so_k_1) for i in so_k_1]}\n",
    "\n",
    "print(results_AI_k)\n",
    "print(results_song_k)\n",
    "\n",
    "Counter(df_0_q[\"song_knowledge\"])"
   ]
  },
  {
   "cell_type": "code",
   "execution_count": 46,
   "id": "4a5540cc",
   "metadata": {},
   "outputs": [
    {
     "name": "stdout",
     "output_type": "stream",
     "text": [
      "[0.11428571 0.27272727] [0. 0.]\n",
      "[0.88571429 0.72727273] [0.11428571 0.27272727]\n"
     ]
    },
    {
     "data": {
      "image/png": "[encoded data removed]",
      "text/plain": [
       "<Figure size 600x80 with 1 Axes>"
      ]
     },
     "metadata": {},
     "output_type": "display_data"
    }
   ],
   "source": [
    "survey(results_AI_k, [\"NO\", \"YES\"], \"ai_knowledge\", \"Are you in any way familiar with AI?\", height = 0.8)"
   ]
  },
  {
   "cell_type": "code",
   "execution_count": 47,
   "id": "88e68859",
   "metadata": {},
   "outputs": [
    {
     "name": "stdout",
     "output_type": "stream",
     "text": [
      "[0.6        0.66666667] [0. 0.]\n",
      "[0.4        0.33333333] [0.6        0.66666667]\n"
     ]
    },
    {
     "data": {
      "image/png": "[encoded data removed]",
      "text/plain": [
       "<Figure size 600x80 with 1 Axes>"
      ]
     },
     "metadata": {},
     "output_type": "display_data"
    }
   ],
   "source": [
    "survey(results_song_k, [\"NO\", \"YES\"], \"song_knowledge\", \"Were you familiar with any of the songs in the study?\", height = 0.8)"
   ]
  },
  {
   "cell_type": "code",
   "execution_count": 48,
   "id": "e48885fd",
   "metadata": {},
   "outputs": [
    {
     "data": {
      "text/plain": [
       "Index(['group', 'file', 'filenum', 'questionnaire', 'trust_questionnaire',\n",
       "       'time_alone', 'time_ai', 'time_total', 'AI_successful', 'euro_watcher',\n",
       "       'song_knowledge', 'song_knowledge_which', 'AI_knowledge',\n",
       "       'AI_knowledge_what', 'age', 'gender', 'rel_1', 'rel_2', 'rel_5',\n",
       "       'com_1', 'com_2', 'com_3', 'com_5', 'fai_1', 'fai_2', 'fai_3', 'fai_4',\n",
       "       'fai_5', 'rel', 'com', 'fai', 'trust', 'AI_answer_basis',\n",
       "       'AI_plausibility', 'num_correct', 'num_correct_ai', 'num_mislead',\n",
       "       'num_mislead_switch', 'num_incorrect', 'num_help', 'num_help_switch',\n",
       "       'num_total_disagree', 'num_total_switch', 'ratio_switch', 'ratio_help',\n",
       "       'ratio_mislead'],\n",
       "      dtype='object')"
      ]
     },
     "execution_count": 48,
     "metadata": {},
     "output_type": "execute_result"
    }
   ],
   "source": [
    "df_0_q.columns"
   ]
  },
  {
   "cell_type": "code",
   "execution_count": 49,
   "id": "eb0bc1fe",
   "metadata": {},
   "outputs": [
    {
     "name": "stdout",
     "output_type": "stream",
     "text": [
      "33\n"
     ]
    }
   ],
   "source": [
    "df_qual = df_1_q\n",
    "df_qual = df_qual.set_index(\"file\")\n",
    "print(len(df_qual))"
   ]
  },
  {
   "cell_type": "code",
   "execution_count": 50,
   "id": "a092b875",
   "metadata": {
    "scrolled": true
   },
   "outputs": [],
   "source": [
    "AI_answer_basis = {\n",
    "    '1_1.csv': [\"data\", \"historical data\"],\n",
    "    '1_18.csv': [\"data\", \"expert data\"],\n",
    "    '1_2.csv': [\"lyrics\", \"lyrics resonate\"],\n",
    "    '1_3.csv': [\"AI/ML\"],\n",
    "    '1_22.csv': [\"data\", \"statistics\"],\n",
    "    '1_23.csv': [\"lyrics\"],\n",
    "    '1_6.csv': [\"data\", \"historical data\"],\n",
    "    '1_21.csv': [\"lyrics\", \"lyrics resonate\"],\n",
    "    '1_20.csv': [\"AI/ML\"],\n",
    "    '1_5.csv': [\"lyrics\"],\n",
    "    '1_11.csv': [\"lyrics\"],\n",
    "    '1_16.csv': [\"country of singer\"],\n",
    "    '1_14.csv': [\"lyrics\"]\n",
    "}\n",
    "\n",
    "df_qual[\"AI_answer_basis_codes\"] = pd.Series(AI_answer_basis)\n",
    "\n",
    "AI_plausibility = {\n",
    "    '1_1.csv': [\"comparable to human\"],\n",
    "    '1_18.csv': [\"plausible\", \"fairly plausible\"],\n",
    "    '1_2.csv': [\"basis\", \"basis contradictory\"],\n",
    "    '1_3.csv': [\"plausible\", \"very plausible\"],\n",
    "    '1_22.csv': [\"comparable to human\"],\n",
    "    '1_23.csv': [\"basis\", \"basis not sufficient\"],\n",
    "    '1_6.csv': [\"plausible\", \"very plausible\"],\n",
    "    '1_21.csv': [\"plausible\", \"somewhat plausible\"],\n",
    "    '1_20.csv': [\"unsure\"],\n",
    "    '1_5.csv': [\"plausible\", \"fairly plausible\", \"basis\", \"basis not sufficient\"],\n",
    "    '1_11.csv': [\"not plausible\", \"basis\", \"basis not sufficient\"],\n",
    "    '1_16.csv': [\"unsure\"],\n",
    "    '1_14.csv': [\"plausible\", \"fairly plausible\"]\n",
    "}\n",
    "\n",
    "df_qual[\"AI_plausibility_codes\"] = pd.Series(AI_plausibility)"
   ]
  },
  {
   "cell_type": "code",
   "execution_count": 51,
   "id": "7f405ad2",
   "metadata": {
    "scrolled": true
   },
   "outputs": [
    {
     "name": "stdout",
     "output_type": "stream",
     "text": [
      "1_0.csv\n",
      "3 --> 0\n",
      "1 --> 0\n",
      "0.0\n",
      "- nan nan\n",
      "- nan nan\n",
      "---\n",
      "1_1.csv\n",
      "3 --> 0\n",
      "1 --> 0\n",
      "1.0\n",
      "- All past songs used in the ESC ['data', 'historical data']\n",
      "- What an average person trying to convince me would say whether it's true or not ['comparable to human']\n",
      "---\n",
      "1_11.csv\n",
      "5 --> 0\n",
      "0 --> 0\n",
      "-1.0\n",
      "- As the explanations provided by the AI suggest, I believe the system only analyzes the lyrics of the songs, while the music is disregarded. ['lyrics']\n",
      "- Not very plausible, as only one or maybe two lines of the lyrics were cited as basis of the decision ['not plausible', 'basis', 'basis not sufficient']\n",
      "---\n",
      "1_13.csv\n",
      "2 --> 1\n",
      "2 --> 2\n",
      "-1.0\n",
      "- nan nan\n",
      "- nan nan\n",
      "---\n",
      "1_14.csv\n",
      "4 --> 0\n",
      "1 --> 0\n",
      "-1.0\n",
      "- mostly the lyrics ['lyrics']\n",
      "- the explanations of the appeal of the lyrical contents are reasonable, but only considering lyrical content to predict the performance of a song is far too one-dimensional ['plausible', 'fairly plausible']\n",
      "---\n",
      "1_16.csv\n",
      "2 --> 0\n",
      "3 --> 0\n",
      "0.0\n",
      "- Scandinavian country, uplifting sound ['country of singer']\n",
      "- Difficult to say ['unsure']\n",
      "---\n",
      "1_17.csv\n",
      "2 --> 0\n",
      "2 --> 0\n",
      "0.0\n",
      "- nan nan\n",
      "- nan nan\n",
      "---\n",
      "1_18.csv\n",
      "3 --> 1\n",
      "2 --> 0\n",
      "-1.0\n",
      "- Professional critique and analysis ['data', 'expert data']\n",
      "- Fairly plausible, but not infallible.  ['plausible', 'fairly plausible']\n",
      "---\n",
      "1_19.csv\n",
      "3 --> 0\n",
      "2 --> 0\n",
      "-1.0\n",
      "- nan nan\n",
      "- nan nan\n",
      "---\n",
      "1_2.csv\n",
      "5 --> 0\n",
      "0 --> 0\n",
      "-2.0\n",
      "- In those AI answers were many conclusions about the lyrics and how theyve inflicted the viewers choice. ['lyrics', 'lyrics resonate']\n",
      "- When sung in native language the AI referred to it in one case as exotic and also built up their verdict on the emotions the lyrics were transmitting. This is kinda contradictory imo. ['basis', 'basis contradictory']\n",
      "---\n",
      "1_20.csv\n",
      "4 --> 0\n",
      "1 --> 0\n",
      "1.0\n",
      "- machine learning ['AI/ML']\n",
      "- 50 50 ['unsure']\n",
      "---\n",
      "1_21.csv\n",
      "4 --> 0\n",
      "1 --> 0\n",
      "1.0\n",
      "- Other song lyrics and their sentiments ['lyrics', 'lyrics resonate']\n",
      "- somewhat plausible, as they were very detailed ['plausible', 'somewhat plausible']\n",
      "---\n",
      "1_22.csv\n",
      "3 --> 0\n",
      "1 --> 0\n",
      "-1.0\n",
      "- A tangle of factors that I cannot describe; which is also the case for a human decision on this problem ['data', 'statistics']\n",
      "- Exactly as plausible as those of human pundits, which is not very ['comparable to human']\n",
      "---\n",
      "1_23.csv\n",
      "5 --> 0\n",
      "0 --> 0\n",
      "-1.0\n",
      "- Mostly the lyrics ['lyrics']\n",
      "- Mostly they were based on the lyrics but that isn't everything  ['basis', 'basis not sufficient']\n",
      "---\n",
      "1_24.csv\n",
      "5 --> 0\n",
      "0 --> 0\n",
      "-2.0\n",
      "- nan nan\n",
      "- nan nan\n",
      "---\n",
      "1_25.csv\n",
      "4 --> 0\n",
      "1 --> 0\n",
      "-1.0\n",
      "- Lyrics nan\n",
      "- nan nan\n",
      "---\n",
      "1_26.csv\n",
      "3 --> 0\n",
      "1 --> 0\n",
      "1.0\n",
      "- training data nan\n",
      "- somewhat plausible, sometimes a bit over the top and to deep nan\n",
      "---\n",
      "1_27.csv\n",
      "5 --> 0\n",
      "0 --> 0\n",
      "-1.0\n",
      "- lyrics nan\n",
      "- Not much, because there is so much more about winning eurovision: Political time/Performance nan\n",
      "---\n",
      "1_28.csv\n",
      "2 --> 0\n",
      "3 --> 0\n",
      "1.0\n",
      "- nan nan\n",
      "- nan nan\n",
      "---\n",
      "1_3.csv\n",
      "4 --> 0\n",
      "1 --> 0\n",
      "0.0\n",
      "- the possibility to gain and use more information about a subject than a human itself  ['AI/ML']\n",
      "- Very plausible  ['plausible', 'very plausible']\n",
      "---\n",
      "1_30.csv\n",
      "3 --> 0\n",
      "2 --> 0\n",
      "-2.0\n",
      "- nan nan\n",
      "- nan nan\n",
      "---\n",
      "1_31.csv\n",
      "3 --> 0\n",
      "2 --> 0\n",
      "-1.0\n",
      "- nan nan\n",
      "- nan nan\n",
      "---\n",
      "1_33.csv\n",
      "4 --> 0\n",
      "1 --> 0\n",
      "-1.0\n",
      "- I think the AI only decided based upon the lyrics. It considers songs with little repetition and positive, shallow and unpolitical to be winners. nan\n",
      "- Based on the text it might seem plausible, I'd agree with the decision base myself, but overall I think this lyrics-based approach leaves most of the things to be considered for a song and its performance to be catchy and thrilling on the road. nan\n",
      "---\n",
      "1_34.csv\n",
      "3 --> 2\n",
      "1 --> 1\n",
      "-1.0\n",
      "- the translation of the song lyrics + knowledge on which kind of messages and songs tend to do well at the ESC nan\n",
      "- the AI made reasonable conclusions from the song lyrics, but because it doesn't consider the underlying melody and sound of the song there was always something missing from the explanations given by the AI nan\n",
      "---\n",
      "1_35.csv\n",
      "3 --> 0\n",
      "2 --> 0\n",
      "1.0\n",
      "- I think it is a lot about the lyrics and intruments used in previous winners nan\n",
      "- I get what the AI was trying to say but it smeed a bit all over the place nan\n",
      "---\n",
      "1_36.csv\n",
      "3 --> 0\n",
      "1 --> 1\n",
      "1.0\n",
      "- Melody, if the sound is able to make masses move  nan\n",
      "- nan nan\n",
      "---\n",
      "1_37.csv\n",
      "3 --> 0\n",
      "1 --> 0\n",
      "-1.0\n",
      "- the lyrics nan\n",
      "- nan nan\n",
      "---\n",
      "1_38.csv\n",
      "4 --> 3\n",
      "1 --> 0\n",
      "1.0\n",
      "- The lyrics, country of origin and singers of the song, compared against all winners/losers from the years before. nan\n",
      "- nan nan\n",
      "---\n",
      "1_39.csv\n",
      "4 --> 1\n",
      "1 --> 1\n",
      "1.0\n",
      "- nan nan\n",
      "- Verry  nan\n",
      "---\n",
      "1_40.csv\n",
      "3 --> 0\n",
      "1 --> 0\n",
      "1.0\n",
      "- The songtext I was unable to understand due to language barriers. The AI was looking for a specific emotion inside the text and was trying to rate it dependent on the audience of the contest. nan\n",
      "- Very plausible, I do rate the songs the same way but am not able to speak as many languages for myself. So I do look more for the beat and sound instead of the text. nan\n",
      "---\n",
      "1_5.csv\n",
      "4 --> 0\n",
      "1 --> 0\n",
      "-1.0\n",
      "- The lyrics of each song (or rather the english translations of the lyrics). ['lyrics']\n",
      "- The explanations were quite plausible if one would also only have the lyrics to determine a result.  They however feel a bit one-dimensional and superficial. ['plausible', 'fairly plausible', 'basis', 'basis not sufficient']\n",
      "---\n",
      "1_6.csv\n",
      "4 --> 0\n",
      "1 --> 0\n",
      "0.0\n",
      "- Past Eurovision results  ['data', 'historical data']\n",
      "- Very- it made sense and I agreed with its reasoning ['plausible', 'very plausible']\n",
      "---\n",
      "1_8.csv\n",
      "3 --> 0\n",
      "1 --> 0\n",
      "1.0\n",
      "- nan nan\n",
      "- nan nan\n",
      "---\n"
     ]
    }
   ],
   "source": [
    "for i, row in df_qual.iterrows():\n",
    "    print(i)\n",
    "    print(row['num_mislead'],\"-->\", row['num_mislead_switch'])\n",
    "    print(row['num_help'], \"-->\", row['num_help_switch'])\n",
    "    print(row[\"AI_successful\"])\n",
    "    print(\"-\",row[\"AI_answer_basis\"], row[\"AI_answer_basis_codes\"])\n",
    "    print(\"-\",row[\"AI_plausibility\"], row[\"AI_plausibility_codes\"])\n",
    "    print(\"---\")"
   ]
  },
  {
   "cell_type": "code",
   "execution_count": 52,
   "id": "36577f7e",
   "metadata": {},
   "outputs": [
    {
     "name": "stdout",
     "output_type": "stream",
     "text": [
      "{'very plausible', 'basis not sufficient', 'not plausible', 'unsure', 'somewhat plausible', 'basis', 'fairly plausible', 'plausible', 'basis contradictory', 'comparable to human'}\n",
      "plausible : 6\n",
      "basis : 4\n",
      "fairly plausible : 3\n",
      "basis not sufficient : 3\n",
      "comparable to human : 2\n",
      "very plausible : 2\n",
      "unsure : 2\n",
      "basis contradictory : 1\n",
      "somewhat plausible : 1\n",
      "not plausible : 1\n"
     ]
    }
   ],
   "source": [
    "plaus_codes = list(AI_plausibility.values())\n",
    "plaus_codes = sum(plaus_codes, [])\n",
    "print(set(plaus_codes))\n",
    "plaus_codes = Counter(plaus_codes)\n",
    "plaus_codes = sorted(list(plaus_codes.items()), key = lambda x: x[1], reverse = True)\n",
    "for item in plaus_codes:\n",
    "    print(item[0], \":\", item[1])"
   ]
  },
  {
   "cell_type": "code",
   "execution_count": 53,
   "id": "3382345d",
   "metadata": {},
   "outputs": [
    {
     "name": "stdout",
     "output_type": "stream",
     "text": [
      "[0 2 2 1 0] [0 0 0 0 0]\n",
      "[2 0 0 0 3] [0 2 2 1 0]\n",
      "[3 0 0 0 1] [2 2 2 1 3]\n",
      "[1 0 0 0 0] [5 2 2 1 4]\n"
     ]
    },
    {
     "data": {
      "image/png": "[encoded data removed]",
      "text/plain": [
       "<Figure size 600x250 with 1 Axes>"
      ]
     },
     "metadata": {},
     "output_type": "display_data"
    }
   ],
   "source": [
    "plaus_results = {\n",
    "    \"plausible\": [0, 2, 3, 1],\n",
    "    \"comparable \\nto human\": [2, 0, 0, 0],\n",
    "    \"unsure\": [2, 0, 0, 0],\n",
    "    \"not plausible\": [1, 0, 0, 0],\n",
    "    \"basis\": [0, 3, 1, 0]\n",
    "}\n",
    "\n",
    "plaus_bar_labels = [[\"\", \"very\", \"fairly\", \"somewhat\"],\n",
    "                    [\"\", \"\", \"\", \"\"],\n",
    "                    [\"\", \"\", \"\", \"\"],\n",
    "                    [\"\", \"\", \"\", \"\"],\n",
    "                    [\"\", \"not sufficient\", \"contradictory\", \"\"]]\n",
    "plaus_bar_labels = np.array(plaus_bar_labels)\n",
    "plaus_bar_labels = plaus_bar_labels.T\n",
    "\n",
    "survey(plaus_results, [\"\", \"\", \"\", \"\"], \"plausible\", \"How plausible did the explanations \\ngiven by the AI seem to you?\", height = 2.5, legend = False, x_invisible = False, cmap = \"Greens_r\", use_bar_labels = True, bar_labels = plaus_bar_labels)\n",
    "\n"
   ]
  },
  {
   "cell_type": "code",
   "execution_count": null,
   "id": "7b9b8452",
   "metadata": {},
   "outputs": [],
   "source": []
  },
  {
   "cell_type": "code",
   "execution_count": 54,
   "id": "783fb5e2",
   "metadata": {},
   "outputs": [
    {
     "name": "stdout",
     "output_type": "stream",
     "text": [
      "{'data', 'lyrics', 'AI/ML', 'country of singer', 'expert data', 'lyrics resonate', 'statistics', 'historical data'}\n",
      "lyrics : 6\n",
      "data : 4\n",
      "historical data : 2\n",
      "lyrics resonate : 2\n",
      "AI/ML : 2\n",
      "expert data : 1\n",
      "statistics : 1\n",
      "country of singer : 1\n"
     ]
    }
   ],
   "source": [
    "basis_codes = list(AI_answer_basis.values())\n",
    "basis_codes = sum(basis_codes, [])\n",
    "print(set(basis_codes))\n",
    "basis_codes = Counter(basis_codes)\n",
    "basis_codes = sorted(list(basis_codes.items()), key = lambda x: x[1], reverse = True)\n",
    "for item in basis_codes:\n",
    "    print(item[0], \":\", item[1])"
   ]
  },
  {
   "cell_type": "code",
   "execution_count": 55,
   "id": "91aed404",
   "metadata": {},
   "outputs": [
    {
     "name": "stdout",
     "output_type": "stream",
     "text": [
      "[4 1 0 2] [0 0 0 0]\n",
      "[2 0 2 0] [4 1 0 2]\n",
      "[0 0 1 0] [6 1 2 2]\n",
      "[0 0 1 0] [6 1 3 2]\n"
     ]
    },
    {
     "data": {
      "image/png": "[encoded data removed]",
      "text/plain": [
       "<Figure size 600x200 with 1 Axes>"
      ]
     },
     "metadata": {},
     "output_type": "display_data"
    }
   ],
   "source": [
    "basis_results = {\n",
    "    \"lyrics\": [4, 2, 0, 0],\n",
    "    \"country \\nof singer\": [1, 0, 0, 0],\n",
    "    \"data\": [0, 2, 1, 1],\n",
    "    \"AI/ML\": [2, 0, 0, 0]\n",
    "}\n",
    "\n",
    "basis_bar_labels = [[\"\", \"resonate\", \"\", \"\"],\n",
    "                    [\"\", \"\", \"\", \"\"],\n",
    "                    [\"\", \"historical\", \"expert\", \"statistics\"],\n",
    "                    [\"\", \"\", \"\", \"\"]\n",
    "                   ]\n",
    "basis_bar_labels = np.array(basis_bar_labels)\n",
    "basis_bar_labels = basis_bar_labels.T\n",
    "\n",
    "survey(basis_results, [\"\", \"\", \"\", \"\"], \"basis\", \"What do you think is the basis for the AI\\'s answers?\", height = 2.0, legend = False, x_invisible = False, cmap = \"Greens_r\", use_bar_labels = True, bar_labels = basis_bar_labels)\n",
    "\n",
    "\n"
   ]
  },
  {
   "cell_type": "markdown",
   "id": "42fbffbc",
   "metadata": {},
   "source": [
    "### Trust Questionnaire Results ###"
   ]
  },
  {
   "cell_type": "code",
   "execution_count": 56,
   "id": "2b124a18",
   "metadata": {},
   "outputs": [
    {
     "name": "stdout",
     "output_type": "stream",
     "text": [
      "trust \n",
      "\n",
      "All\n",
      "Mean: -0.3951612903225807\n",
      "Std: 0.579661153466815\n",
      "Min & Max: -1.5833333333333333 0.8333333333333334\n",
      "\n",
      "\n",
      "Group 0\n",
      "Mean: -0.5572916666666666\n",
      "Std: 0.5317348686009891\n",
      "Min & Max: -1.5833333333333333 0.16666666666666666\n",
      "\n",
      "\n",
      "Group 1\n",
      "Mean: -0.22222222222222224\n",
      "Std: 0.5786851848888794\n",
      "Min & Max: -1.1666666666666667 0.8333333333333334\n",
      "\n",
      "\n",
      "Ttest_indResult(statistic=-0.3678631932883686, pvalue=0.7170413963314448)\n",
      "\n",
      "---\n",
      "\n"
     ]
    }
   ],
   "source": [
    "compare([\"trust\"], df0 = df_0_qt, df1 = df_1_qt)"
   ]
  },
  {
   "cell_type": "code",
   "execution_count": 57,
   "id": "b1acae49",
   "metadata": {},
   "outputs": [
    {
     "name": "stdout",
     "output_type": "stream",
     "text": [
      "rel \n",
      "\n",
      "All\n",
      "Mean: -1.0744093786695063e-17\n",
      "Std: 0.48637345711392005\n",
      "Min & Max: -1.3333333333333333 1.0\n",
      "\n",
      "\n",
      "Group 0\n",
      "Mean: -0.125\n",
      "Std: 0.4061164310337068\n",
      "Min & Max: -1.0 0.6666666666666666\n",
      "\n",
      "\n",
      "Group 1\n",
      "Mean: 0.13333333333333333\n",
      "Std: 0.5277485372016852\n",
      "Min & Max: -1.3333333333333333 1.0\n",
      "\n",
      "\n",
      "Ttest_indResult(statistic=-2.220666551141781, pvalue=0.03873028713006286)\n",
      "\n",
      "---\n",
      "\n"
     ]
    }
   ],
   "source": [
    "compare([\"rel\"], df0 = df_0_qt, df1 = df_1_qt)"
   ]
  },
  {
   "cell_type": "code",
   "execution_count": 58,
   "id": "70e983dd",
   "metadata": {},
   "outputs": [
    {
     "name": "stdout",
     "output_type": "stream",
     "text": [
      "com \n",
      "\n",
      "All\n",
      "Mean: -0.3870967741935484\n",
      "Std: 0.8772177187669127\n",
      "Min & Max: -1.75 1.5\n",
      "\n",
      "\n",
      "Group 0\n",
      "Mean: -0.59375\n",
      "Std: 0.7008644216251814\n",
      "Min & Max: -1.75 0.75\n",
      "\n",
      "\n",
      "Group 1\n",
      "Mean: -0.16666666666666666\n",
      "Std: 0.9860132971832694\n",
      "Min & Max: -1.75 1.5\n",
      "\n",
      "\n",
      "Ttest_indResult(statistic=0.1357133881419355, pvalue=0.8934754059010881)\n",
      "\n",
      "---\n",
      "\n"
     ]
    }
   ],
   "source": [
    "compare([\"com\"], df0 = df_0_qt, df1 = df_1_qt)"
   ]
  },
  {
   "cell_type": "code",
   "execution_count": 59,
   "id": "f548b5e9",
   "metadata": {},
   "outputs": [
    {
     "name": "stdout",
     "output_type": "stream",
     "text": [
      "fai \n",
      "\n",
      "All\n",
      "Mean: -0.6387096774193549\n",
      "Std: 0.6513892941145047\n",
      "Min & Max: -2.0 0.6\n",
      "\n",
      "\n",
      "Group 0\n",
      "Mean: -0.7875000000000001\n",
      "Std: 0.690900680271774\n",
      "Min & Max: -2.0 0.6\n",
      "\n",
      "\n",
      "Group 1\n",
      "Mean: -0.48000000000000004\n",
      "Std: 0.5647418289212632\n",
      "Min & Max: -1.4 0.4\n",
      "\n",
      "\n",
      "Ttest_indResult(statistic=-0.07820696892970652, pvalue=0.9384811832596727)\n",
      "\n",
      "---\n",
      "\n"
     ]
    }
   ],
   "source": [
    "compare([\"fai\"], df0 = df_0_qt, df1 = df_1_qt)"
   ]
  },
  {
   "cell_type": "code",
   "execution_count": 60,
   "id": "08930d32",
   "metadata": {},
   "outputs": [
    {
     "name": "stdout",
     "output_type": "stream",
     "text": [
      "fai_4 \n",
      "\n",
      "All\n",
      "Mean: -0.8064516129032258\n",
      "Std: 0.9973951505638908\n",
      "Min & Max: -2.0 1.0\n",
      "\n",
      "\n",
      "Group 0\n",
      "Mean: -1.125\n",
      "Std: 0.8569568250501305\n",
      "Min & Max: -2.0 1.0\n",
      "\n",
      "\n",
      "Group 1\n",
      "Mean: -0.4666666666666667\n",
      "Std: 1.0241527663824812\n",
      "Min & Max: -2.0 1.0\n",
      "\n",
      "\n",
      "Ttest_indResult(statistic=-0.6419830335582993, pvalue=0.5285545076012165)\n",
      "\n",
      "---\n",
      "\n"
     ]
    }
   ],
   "source": [
    "compare([\"fai_4\"], df0 = df_0_qt, df1 = df_1_qt)"
   ]
  },
  {
   "cell_type": "code",
   "execution_count": 61,
   "id": "a8d127f7",
   "metadata": {},
   "outputs": [
    {
     "name": "stdout",
     "output_type": "stream",
     "text": [
      "rel_2 \n",
      "\n",
      "All\n",
      "Mean: 0.0967741935483871\n",
      "Std: 0.7768770695995029\n",
      "Min & Max: -2.0 1.0\n",
      "\n",
      "\n",
      "Group 0\n",
      "Mean: -0.125\n",
      "Std: 0.6959705453537527\n",
      "Min & Max: -2.0 1.0\n",
      "\n",
      "\n",
      "Group 1\n",
      "Mean: 0.3333333333333333\n",
      "Std: 0.7888106377466154\n",
      "Min & Max: -2.0 1.0\n",
      "\n",
      "\n",
      "Ttest_indResult(statistic=-2.0617624964206507, pvalue=0.053179526745190026)\n",
      "\n",
      "---\n",
      "\n"
     ]
    }
   ],
   "source": [
    "compare([\"rel_2\"], df0 = df_0_qt, df1 = df_1_qt)"
   ]
  },
  {
   "cell_type": "code",
   "execution_count": 62,
   "id": "a79f4929",
   "metadata": {},
   "outputs": [
    {
     "name": "stdout",
     "output_type": "stream",
     "text": [
      "fai_5 \n",
      "\n",
      "All\n",
      "Mean: -0.4838709677419355\n",
      "Std: 0.9794984806896114\n",
      "Min & Max: -2.0 1.0\n",
      "\n",
      "\n",
      "Group 0\n",
      "Mean: -0.5625\n",
      "Std: 1.1162856937182344\n",
      "Min & Max: -2.0 1.0\n",
      "\n",
      "\n",
      "Group 1\n",
      "Mean: -0.4\n",
      "Std: 0.8\n",
      "Min & Max: -2.0 1.0\n",
      "\n",
      "\n",
      "Ttest_indResult(statistic=-0.6467684128238614, pvalue=0.5255188187173463)\n",
      "\n",
      "---\n",
      "\n"
     ]
    }
   ],
   "source": [
    "compare([\"fai_5\"], df0 = df_0_qt, df1 = df_1_qt)"
   ]
  },
  {
   "cell_type": "code",
   "execution_count": 63,
   "id": "0f4836cf",
   "metadata": {},
   "outputs": [
    {
     "data": {
      "image/png": "[encoded data removed]",
      "text/plain": [
       "<Figure size 300x300 with 1 Axes>"
      ]
     },
     "metadata": {},
     "output_type": "display_data"
    },
    {
     "data": {
      "image/png": "[encoded data removed]",
      "text/plain": [
       "<Figure size 300x300 with 1 Axes>"
      ]
     },
     "metadata": {},
     "output_type": "display_data"
    },
    {
     "data": {
      "image/png": "[encoded data removed]",
      "text/plain": [
       "<Figure size 300x300 with 1 Axes>"
      ]
     },
     "metadata": {},
     "output_type": "display_data"
    },
    {
     "data": {
      "image/png": "[encoded data removed]",
      "text/plain": [
       "<Figure size 300x300 with 1 Axes>"
      ]
     },
     "metadata": {},
     "output_type": "display_data"
    }
   ],
   "source": [
    "make_bv_plot([\"trust\"], [\"Trust\"], 1, 1, [[-2, +2]], w = 3, h = 3, df0 = df_0_qt, df1 = df_1_qt)\n",
    "\n",
    "make_bv_plot([\"rel\"], [\"Reliance\"], 1, 1, [[-2, +2]], w = 3, h = 3, df0 = df_0_qt, df1 = df_1_qt)\n",
    "\n",
    "make_bv_plot([\"com\"], [\"Competence\"], 1, 1, [[-2, +2]], w = 3, h = 3, df0 = df_0_qt, df1 = df_1_qt)\n",
    "make_bv_plot([\"fai\"], [\"Faith\"], 1, 1, [[-2, +2]], w = 3, h = 3, df0 = df_0_qt, df1 = df_1_qt)\n",
    "\n",
    "\n",
    "#print(category_names_euro)\n",
    "\n",
    "category_names_trust_reverse = [\"STRONGLY AGREE\", \"AGREE\", \"NEUTRAL\", \"DISAGREE\", \"STRONGLY DISAGREE\"]\n",
    "category_names_trust = [category_names_trust_reverse[len(category_names_trust_reverse)-(i+1)] for i in range(len(category_names_trust_reverse))]\n",
    "\n",
    "#survey(results_trust, category_names_euro,\"euro_watcher\", \"Results of modified HCT Questionnaire\", height = 0.8)"
   ]
  },
  {
   "cell_type": "markdown",
   "id": "d542fe2c",
   "metadata": {},
   "source": [
    "#### Reliance"
   ]
  },
  {
   "cell_type": "code",
   "execution_count": 64,
   "id": "f3ddf7fe",
   "metadata": {},
   "outputs": [
    {
     "name": "stdout",
     "output_type": "stream",
     "text": [
      "{'Group 0': [0.0, 0.2, 0.8, 0.0, 0.0], 'Group 1': [0.0, 0.0, 0.875, 0.125, 0.0]}\n",
      "[0.25       0.13333333] [0. 0.]\n",
      "[0.4375 0.4   ] [0.25       0.13333333]\n",
      "[0.25       0.46666667] [0.6875     0.53333333]\n",
      "[0.0625 0.    ] [0.9375 1.    ]\n",
      "[0. 0.] [1. 1.]\n",
      "[0.0625     0.06666667] [0. 0.]\n",
      "[0.125 0.   ] [0.0625     0.06666667]\n",
      "[0.6875     0.46666667] [0.1875     0.06666667]\n",
      "[0.125      0.46666667] [0.875      0.53333333]\n",
      "[0. 0.] [1. 1.]\n",
      "[0. 0.] [0. 0.]\n",
      "[0. 0.] [0. 0.]\n",
      "[0.375      0.33333333] [0. 0.]\n",
      "[0.625 0.6  ] [0.375      0.33333333]\n",
      "[0.         0.06666667] [1.         0.93333333]\n"
     ]
    },
    {
     "data": {
      "image/png": "[encoded data removed]",
      "text/plain": [
       "<Figure size 600x80 with 1 Axes>"
      ]
     },
     "metadata": {},
     "output_type": "display_data"
    },
    {
     "data": {
      "image/png": "[encoded data removed]",
      "text/plain": [
       "<Figure size 600x80 with 1 Axes>"
      ]
     },
     "metadata": {},
     "output_type": "display_data"
    },
    {
     "data": {
      "image/png": "[encoded data removed]",
      "text/plain": [
       "<Figure size 600x80 with 1 Axes>"
      ]
     },
     "metadata": {},
     "output_type": "display_data"
    }
   ],
   "source": [
    "results_reliance = count_likert_trust(\"rel\")\n",
    "results_rel1 = count_likert_trust(\"rel_1\")\n",
    "results_rel2 = count_likert_trust(\"rel_2\")\n",
    "results_rel5 = count_likert_trust(\"rel_5\")\n",
    "print(results_reliance)\n",
    "\n",
    "survey(results_rel1, category_names_trust,\"rel_1\", \"R1: The system always provides the advice I require to make my decision\", height = 0.8)\n",
    "survey(results_rel2, category_names_trust,\"rel_2\", \"R2: The system performs reliably\", height = 0.8)\n",
    "survey(results_rel5, category_names_trust,\"rel_5\", \"R5: The system analyzes problems consistently\", height = 0.8)"
   ]
  },
  {
   "cell_type": "code",
   "execution_count": 65,
   "id": "123d838e",
   "metadata": {},
   "outputs": [
    {
     "name": "stdout",
     "output_type": "stream",
     "text": [
      "[0.0625     0.06666667] [0. 0.]\n",
      "[0.0625     0.33333333] [0.0625     0.06666667]\n",
      "[0.625      0.33333333] [0.125 0.4  ]\n",
      "[0.25       0.26666667] [0.75       0.73333333]\n",
      "[0. 0.] [1. 1.]\n",
      "[0.125      0.06666667] [0. 0.]\n",
      "[0.1875     0.13333333] [0.125      0.06666667]\n",
      "[0.5625     0.46666667] [0.3125 0.2   ]\n",
      "[0.125 0.2  ] [0.875      0.66666667]\n",
      "[0.         0.13333333] [1.         0.86666667]\n",
      "[0.4375     0.26666667] [0. 0.]\n",
      "[0.375      0.13333333] [0.4375     0.26666667]\n",
      "[0.         0.33333333] [0.8125 0.4   ]\n",
      "[0.1875 0.2   ] [0.8125     0.73333333]\n",
      "[0.         0.06666667] [1.         0.93333333]\n",
      "[0.0625     0.13333333] [0. 0.]\n",
      "[0.0625     0.26666667] [0.0625     0.13333333]\n",
      "[0.4375     0.13333333] [0.125 0.4  ]\n",
      "[0.4375     0.13333333] [0.5625     0.53333333]\n",
      "[0.         0.33333333] [1.         0.66666667]\n"
     ]
    },
    {
     "data": {
      "image/png": "[encoded data removed]",
      "text/plain": [
       "<Figure size 600x80 with 1 Axes>"
      ]
     },
     "metadata": {},
     "output_type": "display_data"
    },
    {
     "data": {
      "image/png": "[encoded data removed]",
      "text/plain": [
       "<Figure size 600x80 with 1 Axes>"
      ]
     },
     "metadata": {},
     "output_type": "display_data"
    },
    {
     "data": {
      "image/png": "[encoded data removed]",
      "text/plain": [
       "<Figure size 600x80 with 1 Axes>"
      ]
     },
     "metadata": {},
     "output_type": "display_data"
    },
    {
     "data": {
      "image/png": "[encoded data removed]",
      "text/plain": [
       "<Figure size 600x80 with 1 Axes>"
      ]
     },
     "metadata": {},
     "output_type": "display_data"
    }
   ],
   "source": [
    "results_com = count_likert_trust(\"com\")\n",
    "results_com1 = count_likert_trust(\"com_1\")\n",
    "results_com2 = count_likert_trust(\"com_2\")\n",
    "results_com3 = count_likert_trust(\"com_3\")\n",
    "results_com5 = count_likert_trust(\"com_5\")\n",
    "\n",
    "survey(results_com1, category_names_trust,\"com_1\", \"T1: The system uses appropriate methods to reach decisions\", height = 0.8)\n",
    "survey(results_com2, category_names_trust,\"com_2\", \"T2: The system has sound knowledge about this kind of problem built into it\", height = 0.8)\n",
    "survey(results_com3, category_names_trust,\"com_3\", \"T3: The advice the system produces is as good as that which a highly competent person could produce\", height = 0.8)\n",
    "survey(results_com5, category_names_trust,\"com_5\", \"T5: The system makes use of all the knowledge and information available to it to produce its solution to the problem\", height = 0.8)"
   ]
  },
  {
   "cell_type": "code",
   "execution_count": 66,
   "id": "d33c8d6c",
   "metadata": {},
   "outputs": [
    {
     "name": "stdout",
     "output_type": "stream",
     "text": [
      "[0.0625     0.06666667] [0. 0.]\n",
      "[0.625 0.4  ] [0.0625     0.06666667]\n",
      "[0.125      0.33333333] [0.6875     0.46666667]\n",
      "[0.1875 0.2   ] [0.8125 0.8   ]\n",
      "[0. 0.] [1. 1.]\n",
      "[0.3125 0.2   ] [0. 0.]\n",
      "[0.4375     0.46666667] [0.3125 0.2   ]\n",
      "[0.  0.2] [0.75       0.66666667]\n",
      "[0.25       0.06666667] [0.75       0.86666667]\n",
      "[0.         0.06666667] [1.         0.93333333]\n",
      "[0.25 0.2 ] [0. 0.]\n",
      "[0.4375     0.33333333] [0.25 0.2 ]\n",
      "[0.25       0.26666667] [0.6875     0.53333333]\n",
      "[0.0625 0.2   ] [0.9375 0.8   ]\n",
      "[0. 0.] [1. 1.]\n",
      "[0.375 0.2  ] [0. 0.]\n",
      "[0.4375     0.26666667] [0.375 0.2  ]\n",
      "[0.125      0.33333333] [0.8125     0.46666667]\n",
      "[0.0625 0.2   ] [0.9375 0.8   ]\n",
      "[0. 0.] [1. 1.]\n",
      "[0.25       0.06666667] [0. 0.]\n",
      "[0.3125 0.4   ] [0.25       0.06666667]\n",
      "[0.1875 0.4   ] [0.5625     0.46666667]\n",
      "[0.25       0.13333333] [0.75       0.86666667]\n",
      "[0. 0.] [1. 1.]\n"
     ]
    },
    {
     "data": {
      "image/png": "[encoded data removed]",
      "text/plain": [
       "<Figure size 600x80 with 1 Axes>"
      ]
     },
     "metadata": {},
     "output_type": "display_data"
    },
    {
     "data": {
      "image/png": "[encoded data removed]",
      "text/plain": [
       "<Figure size 600x80 with 1 Axes>"
      ]
     },
     "metadata": {},
     "output_type": "display_data"
    },
    {
     "data": {
      "image/png": "[encoded data removed]",
      "text/plain": [
       "<Figure size 600x80 with 1 Axes>"
      ]
     },
     "metadata": {},
     "output_type": "display_data"
    },
    {
     "data": {
      "image/png": "[encoded data removed]",
      "text/plain": [
       "<Figure size 600x80 with 1 Axes>"
      ]
     },
     "metadata": {},
     "output_type": "display_data"
    },
    {
     "data": {
      "image/png": "[encoded data removed]",
      "text/plain": [
       "<Figure size 600x80 with 1 Axes>"
      ]
     },
     "metadata": {},
     "output_type": "display_data"
    }
   ],
   "source": [
    "results_fai = count_likert_trust(\"fai\")\n",
    "results_fai1 = count_likert_trust(\"fai_1\")\n",
    "results_fai2 = count_likert_trust(\"fai_2\")\n",
    "results_fai3 = count_likert_trust(\"fai_3\")\n",
    "results_fai4 = count_likert_trust(\"fai_4\")\n",
    "results_fai5 = count_likert_trust(\"fai_5\")\n",
    "\n",
    "survey(results_fai1, category_names_trust,\"fai_1\", \"F1: I believe advice from the system even though I don't know for certain that it is correct\", height = 0.8)\n",
    "survey(results_fai2, category_names_trust,\"fai_2\", \"F2: When I am uncertain I believe the system rather than myself\", height = 0.8)\n",
    "survey(results_fai3, category_names_trust,\"fai_3\", \"F3: If I am not sure about a decision, I have faith that the system will provide the best solution\", height = 0.8)\n",
    "survey(results_fai4, category_names_trust,\"fai_4\", \"F4: When the system gives unusual advice I am confident that the advice is correct\", height = 0.8)\n",
    "survey(results_fai5, category_names_trust,\"fai_5\", \"F5: Even if I have no reason to expect the system will be able to solve a difficult problem, I still feel certain that it will\", height = 0.8)"
   ]
  },
  {
   "cell_type": "markdown",
   "id": "4ee441ef",
   "metadata": {},
   "source": [
    "### Correlation between HCT result and misleads?"
   ]
  },
  {
   "cell_type": "code",
   "execution_count": 67,
   "id": "cfde3fdb",
   "metadata": {},
   "outputs": [
    {
     "name": "stdout",
     "output_type": "stream",
     "text": [
      "-0.20813018035148756\n",
      "-0.03615507630310936\n",
      "-0.314970394174356\n",
      "0.06568861854428622\n"
     ]
    }
   ],
   "source": [
    "print(df_0_qt['trust'].corr(df_0_qt['num_mislead'], 'kendall'))\n",
    "print(df_0_qt['rel'].corr(df_0_qt['num_mislead'], 'kendall'))\n",
    "print(df_0_qt['fai'].corr(df_0_qt['num_mislead'], 'kendall'))\n",
    "print(df_0_qt['com'].corr(df_0_qt['num_mislead'], 'kendall'))"
   ]
  },
  {
   "cell_type": "code",
   "execution_count": 68,
   "id": "99934b52",
   "metadata": {},
   "outputs": [
    {
     "name": "stdout",
     "output_type": "stream",
     "text": [
      "-0.11892969170906878\n",
      "-0.44098104915550024\n",
      "0.14488358652488856\n",
      "-0.11892969170906878\n"
     ]
    }
   ],
   "source": [
    "print(df_1_qt['trust'].corr(df_1_qt['num_mislead'], 'kendall'))\n",
    "print(df_1_qt['rel'].corr(df_1_qt['num_mislead'], 'kendall'))\n",
    "print(df_1_qt['fai'].corr(df_1_qt['num_mislead'], 'kendall'))\n",
    "print(df_1_qt['com'].corr(df_1_qt['num_mislead'], 'kendall'))"
   ]
  },
  {
   "cell_type": "markdown",
   "id": "b66ed21c",
   "metadata": {},
   "source": [
    "Kendall's tau-B values:\n",
    "\n",
    "    Less than + or - 0.10: very weak\n",
    "    + or -0.10 to 0.19: weak\n",
    "    + or - 0.20 to 0.29: moderate\n",
    "    + or - 0.30 or above: strong\n",
    "    \n",
    "According to: https://www.researchgate.net/post/How-can-I-make-interpretation-of-kendalls-Tau-b-correlation-magnitude\n",
    "\n",
    "We didn't find any rules of thumb for interpreting τb\n",
    "\n",
    "as an effect size so we'll propose some:\n",
    "\n",
    "    Tau-B = 0.07 indicates a weak association;\n",
    "    \n",
    "    Tau-B= 0.21 indicates a medium association;\n",
    "    \n",
    "    Tau-B= 0.35 indicates a strong association."
   ]
  },
  {
   "cell_type": "code",
   "execution_count": null,
   "id": "69816fea",
   "metadata": {},
   "outputs": [],
   "source": []
  },
  {
   "cell_type": "code",
   "execution_count": 69,
   "id": "ac6b7050",
   "metadata": {},
   "outputs": [
    {
     "name": "stdout",
     "output_type": "stream",
     "text": [
      "Group 0:\n",
      "Trust: Tau = -0.20813018035148756, p= 0.32466778042330513\n",
      "Reliance: Tau = -0.03615507630310936, p= 0.8739103503505323\n",
      "Faith: Tau = -0.314970394174356, p= 0.13892906568721014\n",
      "Competence: Tau = 0.06568861854428622, p= 0.7623029405281196\n",
      "Group 1:\n",
      "Trust: Tau = -0.11892969170906878, p= 0.5823696629652255\n",
      "Reliance: Tau = -0.44098104915550024, p= 0.055030896460805806\n",
      "Faith: Tau = 0.14488358652488856, p= 0.5076505919011243\n",
      "Competence: Tau = -0.11892969170906878, p= 0.5823696629652255\n"
     ]
    }
   ],
   "source": [
    "print(\"Group 0:\")\n",
    "\n",
    "tau, p_value = stats.kendalltau(df_0_qt['trust'], df_0_qt['num_mislead'])\n",
    "print(\"Trust: Tau = \" + str(tau) + \", p= \" + str(p_value))\n",
    "\n",
    "tau, p_value = stats.kendalltau(df_0_qt['rel'], df_0_qt['num_mislead'])\n",
    "print(\"Reliance: Tau = \" + str(tau) + \", p= \" + str(p_value))\n",
    "\n",
    "tau, p_value = stats.kendalltau(df_0_qt['fai'], df_0_qt['num_mislead'])\n",
    "print(\"Faith: Tau = \" + str(tau) + \", p= \" + str(p_value))\n",
    "\n",
    "tau, p_value = stats.kendalltau(df_0_qt['com'], df_0_qt['num_mislead'])\n",
    "print(\"Competence: Tau = \" + str(tau) + \", p= \" + str(p_value))\n",
    "\n",
    "\n",
    "print(\"Group 1:\")\n",
    "tau, p_value = stats.kendalltau(df_1_qt['trust'], df_1_qt['num_mislead'])\n",
    "print(\"Trust: Tau = \" + str(tau) + \", p= \" + str(p_value))\n",
    "\n",
    "tau, p_value = stats.kendalltau(df_1_qt['rel'], df_1_qt['num_mislead'])\n",
    "print(\"Reliance: Tau = \" + str(tau) + \", p= \" + str(p_value))\n",
    "\n",
    "tau, p_value = stats.kendalltau(df_1_qt['fai'], df_1_qt['num_mislead'])\n",
    "print(\"Faith: Tau = \" + str(tau) + \", p= \" + str(p_value))\n",
    "\n",
    "tau, p_value = stats.kendalltau(df_1_qt['com'], df_1_qt['num_mislead'])\n",
    "print(\"Competence: Tau = \" + str(tau) + \", p= \" + str(p_value))"
   ]
  },
  {
   "cell_type": "code",
   "execution_count": null,
   "id": "097f22a0",
   "metadata": {},
   "outputs": [],
   "source": []
  },
  {
   "cell_type": "code",
   "execution_count": 70,
   "id": "fe7a9f6d",
   "metadata": {},
   "outputs": [
    {
     "name": "stdout",
     "output_type": "stream",
     "text": [
      "Group 0:\n",
      "Trust: Tau = 0.0, p= 1.0\n",
      "Reliance: Tau = -0.16803361008336115, p= 0.4828996977801916\n",
      "Faith: Tau = 0.04879500364742665, p= 0.8271327073706991\n",
      "Competence: Tau = -0.1526465553944353, p= 0.5033336792236401\n",
      "Group 1:\n",
      "Trust: Tau = 0.3127259740659966, p= 0.1559820473385254\n",
      "Reliance: Tau = 0.06388765649999399, p= 0.7851889044492887\n",
      "Faith: Tau = 0.2453227608198226, p= 0.2711301595190334\n",
      "Competence: Tau = 0.3127259740659966, p= 0.1559820473385254\n"
     ]
    }
   ],
   "source": [
    "print(\"Group 0:\")\n",
    "\n",
    "tau, p_value = stats.kendalltau(df_0_qt['trust'], df_0_qt['num_total_switch'])\n",
    "print(\"Trust: Tau = \" + str(tau) + \", p= \" + str(p_value))\n",
    "\n",
    "tau, p_value = stats.kendalltau(df_0_qt['rel'], df_0_qt['num_total_switch'])\n",
    "print(\"Reliance: Tau = \" + str(tau) + \", p= \" + str(p_value))\n",
    "\n",
    "tau, p_value = stats.kendalltau(df_0_qt['fai'], df_0_qt['num_total_switch'])\n",
    "print(\"Faith: Tau = \" + str(tau) + \", p= \" + str(p_value))\n",
    "\n",
    "tau, p_value = stats.kendalltau(df_0_qt['com'], df_0_qt['num_total_switch'])\n",
    "print(\"Competence: Tau = \" + str(tau) + \", p= \" + str(p_value))\n",
    "\n",
    "\n",
    "print(\"Group 1:\")\n",
    "tau, p_value = stats.kendalltau(df_1_qt['trust'], df_1_qt['num_total_switch'])\n",
    "print(\"Trust: Tau = \" + str(tau) + \", p= \" + str(p_value))\n",
    "\n",
    "tau, p_value = stats.kendalltau(df_1_qt['rel'], df_1_qt['num_total_switch'])\n",
    "print(\"Reliance: Tau = \" + str(tau) + \", p= \" + str(p_value))\n",
    "\n",
    "tau, p_value = stats.kendalltau(df_1_qt['fai'], df_1_qt['num_total_switch'])\n",
    "print(\"Faith: Tau = \" + str(tau) + \", p= \" + str(p_value))\n",
    "\n",
    "tau, p_value = stats.kendalltau(df_1_qt['com'], df_1_qt['num_total_switch'])\n",
    "print(\"Competence: Tau = \" + str(tau) + \", p= \" + str(p_value))"
   ]
  },
  {
   "cell_type": "code",
   "execution_count": 72,
   "id": "c13092e2",
   "metadata": {},
   "outputs": [
    {
     "name": "stdout",
     "output_type": "stream",
     "text": [
      "Switch Ratio + Time Alone: Tau = 0.27367932474300233, p= 0.004603860487844421\n"
     ]
    }
   ],
   "source": [
    "tau, p_value = stats.kendalltau(df_q['ratio_switch'], df_q['time_alone'])\n",
    "print(\"Switch Ratio + Time Alone: Tau = \" + str(tau) + \", p= \" + str(p_value))\n"
   ]
  },
  {
   "cell_type": "code",
   "execution_count": 73,
   "id": "fffadb58",
   "metadata": {},
   "outputs": [
    {
     "data": {
      "text/plain": [
       "SignificanceResult(statistic=0.3477842417854368, pvalue=0.0036603605519852545)"
      ]
     },
     "execution_count": 73,
     "metadata": {},
     "output_type": "execute_result"
    }
   ],
   "source": [
    "stats.spearmanr(df_q[\"ratio_switch\"], df_q[\"time_alone\"])"
   ]
  },
  {
   "cell_type": "code",
   "execution_count": 74,
   "id": "92f4d353",
   "metadata": {},
   "outputs": [
    {
     "data": {
      "image/png": "[encoded data removed]",
      "text/plain": [
       "<Figure size 640x480 with 1 Axes>"
      ]
     },
     "metadata": {},
     "output_type": "display_data"
    }
   ],
   "source": [
    "\n",
    "plt.scatter(df_q[\"ratio_switch\"], df_q[\"time_alone\"])\n",
    "plt.savefig(\"time_to_switch\"+\".png\", bbox_inches=\"tight\")"
   ]
  },
  {
   "cell_type": "code",
   "execution_count": null,
   "id": "a4a405e1",
   "metadata": {},
   "outputs": [],
   "source": []
  },
  {
   "cell_type": "code",
   "execution_count": null,
   "id": "714d1819",
   "metadata": {},
   "outputs": [],
   "source": []
  },
  {
   "cell_type": "code",
   "execution_count": null,
   "id": "503ca03e",
   "metadata": {},
   "outputs": [],
   "source": []
  }
 ],
 "metadata": {
  "kernelspec": {
   "display_name": "Python 3 (ipykernel)",
   "language": "python",
   "name": "python3"
  },
  "language_info": {
   "codemirror_mode": {
    "name": "ipython",
    "version": 3
   },
   "file_extension": ".py",
   "mimetype": "text/x-python",
   "name": "python",
   "nbconvert_exporter": "python",
   "pygments_lexer": "ipython3",
   "version": "3.10.9"
  }
 },
 "nbformat": 4,
 "nbformat_minor": 5
}
